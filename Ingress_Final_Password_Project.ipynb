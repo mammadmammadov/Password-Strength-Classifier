{
 "cells": [
  {
   "cell_type": "code",
   "execution_count": 3,
   "id": "TG6YqOHgGoJv",
   "metadata": {
    "id": "TG6YqOHgGoJv"
   },
   "outputs": [],
   "source": [
    "import pandas as pd\n",
    "import numpy as np\n",
    "import matplotlib.pyplot as plt\n",
    "import seaborn as sns\n",
    "\n",
    "from sklearn.ensemble import RandomForestClassifier\n",
    "from sklearn.metrics import accuracy_score, classification_report, confusion_matrix\n",
    "from sklearn.linear_model import LogisticRegression\n",
    "from sklearn.ensemble import GradientBoostingClassifier\n",
    "from sklearn.svm import SVC"
   ]
  },
  {
   "cell_type": "code",
   "execution_count": 4,
   "id": "90e0c511-0b46-4673-a9e6-b40e0b7ff98c",
   "metadata": {
    "colab": {
     "base_uri": "https://localhost:8080/",
     "height": 73
    },
    "id": "90e0c511-0b46-4673-a9e6-b40e0b7ff98c",
    "outputId": "fc689cfd-91d3-44b4-a8f9-72c3ab64cb2c"
   },
   "outputs": [],
   "source": [
    "# from google.colab import files\n",
    "# uploaded = files.upload()\n",
    "df = pd.read_excel(\"data_excel.xlsx\")"
   ]
  },
  {
   "cell_type": "code",
   "execution_count": 5,
   "id": "QyzXpwYhHRW2",
   "metadata": {
    "colab": {
     "base_uri": "https://localhost:8080/",
     "height": 423
    },
    "id": "QyzXpwYhHRW2",
    "outputId": "1e90ffc3-5f9b-422f-e267-1831b8d1f0be"
   },
   "outputs": [
    {
     "data": {
      "text/html": [
       "<div>\n",
       "<style scoped>\n",
       "    .dataframe tbody tr th:only-of-type {\n",
       "        vertical-align: middle;\n",
       "    }\n",
       "\n",
       "    .dataframe tbody tr th {\n",
       "        vertical-align: top;\n",
       "    }\n",
       "\n",
       "    .dataframe thead th {\n",
       "        text-align: right;\n",
       "    }\n",
       "</style>\n",
       "<table border=\"1\" class=\"dataframe\">\n",
       "  <thead>\n",
       "    <tr style=\"text-align: right;\">\n",
       "      <th></th>\n",
       "      <th>password</th>\n",
       "      <th>strength</th>\n",
       "      <th>Unnamed: 2</th>\n",
       "      <th>Unnamed: 3</th>\n",
       "      <th>Unnamed: 4</th>\n",
       "      <th>Unnamed: 5</th>\n",
       "      <th>Unnamed: 6</th>\n",
       "    </tr>\n",
       "  </thead>\n",
       "  <tbody>\n",
       "    <tr>\n",
       "      <th>0</th>\n",
       "      <td>kzde5577</td>\n",
       "      <td>1</td>\n",
       "      <td>NaN</td>\n",
       "      <td>NaN</td>\n",
       "      <td>NaN</td>\n",
       "      <td>NaN</td>\n",
       "      <td>NaN</td>\n",
       "    </tr>\n",
       "    <tr>\n",
       "      <th>1</th>\n",
       "      <td>kino3434</td>\n",
       "      <td>1</td>\n",
       "      <td>NaN</td>\n",
       "      <td>NaN</td>\n",
       "      <td>NaN</td>\n",
       "      <td>NaN</td>\n",
       "      <td>NaN</td>\n",
       "    </tr>\n",
       "    <tr>\n",
       "      <th>2</th>\n",
       "      <td>visi7k1yr</td>\n",
       "      <td>1</td>\n",
       "      <td>NaN</td>\n",
       "      <td>NaN</td>\n",
       "      <td>NaN</td>\n",
       "      <td>NaN</td>\n",
       "      <td>NaN</td>\n",
       "    </tr>\n",
       "    <tr>\n",
       "      <th>3</th>\n",
       "      <td>megzy123</td>\n",
       "      <td>1</td>\n",
       "      <td>NaN</td>\n",
       "      <td>NaN</td>\n",
       "      <td>NaN</td>\n",
       "      <td>NaN</td>\n",
       "      <td>NaN</td>\n",
       "    </tr>\n",
       "    <tr>\n",
       "      <th>4</th>\n",
       "      <td>lamborghin1</td>\n",
       "      <td>1</td>\n",
       "      <td>NaN</td>\n",
       "      <td>NaN</td>\n",
       "      <td>NaN</td>\n",
       "      <td>NaN</td>\n",
       "      <td>NaN</td>\n",
       "    </tr>\n",
       "    <tr>\n",
       "      <th>...</th>\n",
       "      <td>...</td>\n",
       "      <td>...</td>\n",
       "      <td>...</td>\n",
       "      <td>...</td>\n",
       "      <td>...</td>\n",
       "      <td>...</td>\n",
       "      <td>...</td>\n",
       "    </tr>\n",
       "    <tr>\n",
       "      <th>669874</th>\n",
       "      <td>10redtux10</td>\n",
       "      <td>1</td>\n",
       "      <td>NaN</td>\n",
       "      <td>NaN</td>\n",
       "      <td>NaN</td>\n",
       "      <td>NaN</td>\n",
       "      <td>NaN</td>\n",
       "    </tr>\n",
       "    <tr>\n",
       "      <th>669875</th>\n",
       "      <td>infrared1</td>\n",
       "      <td>1</td>\n",
       "      <td>NaN</td>\n",
       "      <td>NaN</td>\n",
       "      <td>NaN</td>\n",
       "      <td>NaN</td>\n",
       "      <td>NaN</td>\n",
       "    </tr>\n",
       "    <tr>\n",
       "      <th>669876</th>\n",
       "      <td>184520socram</td>\n",
       "      <td>1</td>\n",
       "      <td>NaN</td>\n",
       "      <td>NaN</td>\n",
       "      <td>NaN</td>\n",
       "      <td>NaN</td>\n",
       "      <td>NaN</td>\n",
       "    </tr>\n",
       "    <tr>\n",
       "      <th>669877</th>\n",
       "      <td>marken22a</td>\n",
       "      <td>1</td>\n",
       "      <td>NaN</td>\n",
       "      <td>NaN</td>\n",
       "      <td>NaN</td>\n",
       "      <td>NaN</td>\n",
       "      <td>NaN</td>\n",
       "    </tr>\n",
       "    <tr>\n",
       "      <th>669878</th>\n",
       "      <td>fxx4pw4g</td>\n",
       "      <td>1</td>\n",
       "      <td>NaN</td>\n",
       "      <td>NaN</td>\n",
       "      <td>NaN</td>\n",
       "      <td>NaN</td>\n",
       "      <td>NaN</td>\n",
       "    </tr>\n",
       "  </tbody>\n",
       "</table>\n",
       "<p>669879 rows × 7 columns</p>\n",
       "</div>"
      ],
      "text/plain": [
       "            password strength Unnamed: 2 Unnamed: 3  Unnamed: 4 Unnamed: 5  \\\n",
       "0           kzde5577        1        NaN        NaN         NaN        NaN   \n",
       "1           kino3434        1        NaN        NaN         NaN        NaN   \n",
       "2          visi7k1yr        1        NaN        NaN         NaN        NaN   \n",
       "3           megzy123        1        NaN        NaN         NaN        NaN   \n",
       "4        lamborghin1        1        NaN        NaN         NaN        NaN   \n",
       "...              ...      ...        ...        ...         ...        ...   \n",
       "669874    10redtux10        1        NaN        NaN         NaN        NaN   \n",
       "669875     infrared1        1        NaN        NaN         NaN        NaN   \n",
       "669876  184520socram        1        NaN        NaN         NaN        NaN   \n",
       "669877     marken22a        1        NaN        NaN         NaN        NaN   \n",
       "669878      fxx4pw4g        1        NaN        NaN         NaN        NaN   \n",
       "\n",
       "        Unnamed: 6  \n",
       "0              NaN  \n",
       "1              NaN  \n",
       "2              NaN  \n",
       "3              NaN  \n",
       "4              NaN  \n",
       "...            ...  \n",
       "669874         NaN  \n",
       "669875         NaN  \n",
       "669876         NaN  \n",
       "669877         NaN  \n",
       "669878         NaN  \n",
       "\n",
       "[669879 rows x 7 columns]"
      ]
     },
     "execution_count": 5,
     "metadata": {},
     "output_type": "execute_result"
    }
   ],
   "source": [
    "df"
   ]
  },
  {
   "cell_type": "markdown",
   "id": "e2c3cfa0-9bec-4a7f-8b20-c004b2a94166",
   "metadata": {
    "id": "e2c3cfa0-9bec-4a7f-8b20-c004b2a94166"
   },
   "source": [
    "<h2 style=\"font-size: 24px; font-weight: bold;\">Data Cleaning</h2>"
   ]
  },
  {
   "cell_type": "code",
   "execution_count": 6,
   "id": "943692fa-22e5-41ac-be67-30b75928f602",
   "metadata": {
    "id": "943692fa-22e5-41ac-be67-30b75928f602"
   },
   "outputs": [],
   "source": [
    "# Creating df1 by selecting all rows and the first two columns (0th and 1st) from df\n",
    "df1 = df.iloc[:, 0:2]"
   ]
  },
  {
   "cell_type": "code",
   "execution_count": 7,
   "id": "4a29ad3e-5539-483a-8e71-cff767bf785f",
   "metadata": {
    "colab": {
     "base_uri": "https://localhost:8080/",
     "height": 423
    },
    "id": "4a29ad3e-5539-483a-8e71-cff767bf785f",
    "outputId": "1c2fc320-43d3-4ff2-cf99-0a348bda3d35"
   },
   "outputs": [
    {
     "data": {
      "text/html": [
       "<div>\n",
       "<style scoped>\n",
       "    .dataframe tbody tr th:only-of-type {\n",
       "        vertical-align: middle;\n",
       "    }\n",
       "\n",
       "    .dataframe tbody tr th {\n",
       "        vertical-align: top;\n",
       "    }\n",
       "\n",
       "    .dataframe thead th {\n",
       "        text-align: right;\n",
       "    }\n",
       "</style>\n",
       "<table border=\"1\" class=\"dataframe\">\n",
       "  <thead>\n",
       "    <tr style=\"text-align: right;\">\n",
       "      <th></th>\n",
       "      <th>password</th>\n",
       "      <th>strength</th>\n",
       "    </tr>\n",
       "  </thead>\n",
       "  <tbody>\n",
       "    <tr>\n",
       "      <th>0</th>\n",
       "      <td>kzde5577</td>\n",
       "      <td>1</td>\n",
       "    </tr>\n",
       "    <tr>\n",
       "      <th>1</th>\n",
       "      <td>kino3434</td>\n",
       "      <td>1</td>\n",
       "    </tr>\n",
       "    <tr>\n",
       "      <th>2</th>\n",
       "      <td>visi7k1yr</td>\n",
       "      <td>1</td>\n",
       "    </tr>\n",
       "    <tr>\n",
       "      <th>3</th>\n",
       "      <td>megzy123</td>\n",
       "      <td>1</td>\n",
       "    </tr>\n",
       "    <tr>\n",
       "      <th>4</th>\n",
       "      <td>lamborghin1</td>\n",
       "      <td>1</td>\n",
       "    </tr>\n",
       "    <tr>\n",
       "      <th>...</th>\n",
       "      <td>...</td>\n",
       "      <td>...</td>\n",
       "    </tr>\n",
       "    <tr>\n",
       "      <th>669874</th>\n",
       "      <td>10redtux10</td>\n",
       "      <td>1</td>\n",
       "    </tr>\n",
       "    <tr>\n",
       "      <th>669875</th>\n",
       "      <td>infrared1</td>\n",
       "      <td>1</td>\n",
       "    </tr>\n",
       "    <tr>\n",
       "      <th>669876</th>\n",
       "      <td>184520socram</td>\n",
       "      <td>1</td>\n",
       "    </tr>\n",
       "    <tr>\n",
       "      <th>669877</th>\n",
       "      <td>marken22a</td>\n",
       "      <td>1</td>\n",
       "    </tr>\n",
       "    <tr>\n",
       "      <th>669878</th>\n",
       "      <td>fxx4pw4g</td>\n",
       "      <td>1</td>\n",
       "    </tr>\n",
       "  </tbody>\n",
       "</table>\n",
       "<p>669879 rows × 2 columns</p>\n",
       "</div>"
      ],
      "text/plain": [
       "            password strength\n",
       "0           kzde5577        1\n",
       "1           kino3434        1\n",
       "2          visi7k1yr        1\n",
       "3           megzy123        1\n",
       "4        lamborghin1        1\n",
       "...              ...      ...\n",
       "669874    10redtux10        1\n",
       "669875     infrared1        1\n",
       "669876  184520socram        1\n",
       "669877     marken22a        1\n",
       "669878      fxx4pw4g        1\n",
       "\n",
       "[669879 rows x 2 columns]"
      ]
     },
     "execution_count": 7,
     "metadata": {},
     "output_type": "execute_result"
    }
   ],
   "source": [
    "df1"
   ]
  },
  {
   "cell_type": "code",
   "execution_count": 8,
   "id": "ab6e0b88-cd16-4a63-979e-f11e9df86ec4",
   "metadata": {
    "colab": {
     "base_uri": "https://localhost:8080/",
     "height": 489
    },
    "id": "ab6e0b88-cd16-4a63-979e-f11e9df86ec4",
    "outputId": "bd936025-3bc4-44f7-e20d-68ccbd9cce44"
   },
   "outputs": [
    {
     "data": {
      "text/plain": [
       "strength\n",
       "1                            496801\n",
       "0                             89702\n",
       "2                             83137\n",
       "ckrguzel61@hotmail.com            2\n",
       "komofti34@gmail.com               2\n",
       "                              ...  \n",
       "escortcu34@gmail.com              1\n",
       "iletisim@selimaltin.com           1\n",
       "demir_06_68@hotmail.com           1\n",
       "bychatlak_66@hotmail.com          1\n",
       "efsane.mardinli@gmail.com         1\n",
       "Name: count, Length: 239, dtype: int64"
      ]
     },
     "execution_count": 8,
     "metadata": {},
     "output_type": "execute_result"
    }
   ],
   "source": [
    "df1[\"strength\"].value_counts()"
   ]
  },
  {
   "cell_type": "code",
   "execution_count": 9,
   "id": "b4ba3338-180a-4b9d-afc4-16a0f485d86e",
   "metadata": {
    "id": "b4ba3338-180a-4b9d-afc4-16a0f485d86e"
   },
   "outputs": [],
   "source": [
    "# removing rows from the DataFrame df1 where the \"strength\" value is not 0, 1, or 2\n",
    "\n",
    "strengths = [0,1,2]\n",
    "lst = []\n",
    "\n",
    "for index, row in df1.iterrows():\n",
    "    if row[\"strength\"] not in strengths:\n",
    "        lst.append(index)\n",
    "\n",
    "df2 = df1.drop(lst)"
   ]
  },
  {
   "cell_type": "code",
   "execution_count": 10,
   "id": "2a6b4b67-2da7-4471-b8b4-bf872ea9af7d",
   "metadata": {
    "colab": {
     "base_uri": "https://localhost:8080/",
     "height": 209
    },
    "id": "2a6b4b67-2da7-4471-b8b4-bf872ea9af7d",
    "outputId": "5644d9ad-d078-404d-c735-d2f396e4e3f2"
   },
   "outputs": [
    {
     "data": {
      "text/plain": [
       "strength\n",
       "1    496801\n",
       "0     89702\n",
       "2     83137\n",
       "Name: count, dtype: int64"
      ]
     },
     "execution_count": 10,
     "metadata": {},
     "output_type": "execute_result"
    }
   ],
   "source": [
    "df2[\"strength\"].value_counts()"
   ]
  },
  {
   "cell_type": "code",
   "execution_count": 11,
   "id": "5103bdd3-a87f-4b81-b3a6-0b6bf9efee41",
   "metadata": {
    "id": "5103bdd3-a87f-4b81-b3a6-0b6bf9efee41"
   },
   "outputs": [],
   "source": [
    "df2.drop_duplicates(inplace = True)"
   ]
  },
  {
   "cell_type": "code",
   "execution_count": 12,
   "id": "e8553015-96a5-4aa9-908c-aba65e9c44bb",
   "metadata": {
    "colab": {
     "base_uri": "https://localhost:8080/"
    },
    "id": "e8553015-96a5-4aa9-908c-aba65e9c44bb",
    "outputId": "58ae4daa-e0ec-4001-eeb9-b3d0d6e4976a"
   },
   "outputs": [
    {
     "data": {
      "text/plain": [
       "0"
      ]
     },
     "execution_count": 12,
     "metadata": {},
     "output_type": "execute_result"
    }
   ],
   "source": [
    "df2.duplicated().sum()"
   ]
  },
  {
   "cell_type": "code",
   "execution_count": 13,
   "id": "f0e3bf1e-0f62-4fa1-99cc-98dc395ac49d",
   "metadata": {
    "colab": {
     "base_uri": "https://localhost:8080/"
    },
    "id": "f0e3bf1e-0f62-4fa1-99cc-98dc395ac49d",
    "outputId": "b90bacc8-758e-4000-ad42-98e30af393bf"
   },
   "outputs": [
    {
     "data": {
      "text/plain": [
       "1"
      ]
     },
     "execution_count": 13,
     "metadata": {},
     "output_type": "execute_result"
    }
   ],
   "source": [
    "df2.isna().any().sum()"
   ]
  },
  {
   "cell_type": "code",
   "execution_count": 14,
   "id": "8d6c295c-c1aa-43d8-baac-34087248804d",
   "metadata": {
    "id": "8d6c295c-c1aa-43d8-baac-34087248804d"
   },
   "outputs": [],
   "source": [
    "df2.dropna(inplace = True)"
   ]
  },
  {
   "cell_type": "markdown",
   "id": "5049eacf-0e9f-49b7-a1fe-34076c0bf10b",
   "metadata": {
    "id": "5049eacf-0e9f-49b7-a1fe-34076c0bf10b"
   },
   "source": [
    "<h2 style=\"font-size: 24px; font-weight: bold;\">Semantic Analysis</h2>"
   ]
  },
  {
   "cell_type": "code",
   "execution_count": 15,
   "id": "08d64c26-7421-4b31-9ab8-5f2f6e03e5cb",
   "metadata": {
    "colab": {
     "base_uri": "https://localhost:8080/",
     "height": 147
    },
    "id": "08d64c26-7421-4b31-9ab8-5f2f6e03e5cb",
    "outputId": "1f656ce6-21c3-4654-9884-83a5cf38b4e1"
   },
   "outputs": [
    {
     "data": {
      "text/plain": [
       "password    object\n",
       "strength    object\n",
       "dtype: object"
      ]
     },
     "execution_count": 15,
     "metadata": {},
     "output_type": "execute_result"
    }
   ],
   "source": [
    "df2.dtypes"
   ]
  },
  {
   "cell_type": "code",
   "execution_count": 16,
   "id": "eb3452c0-0d6c-4167-abb9-9b839197cf58",
   "metadata": {
    "colab": {
     "base_uri": "https://localhost:8080/"
    },
    "id": "eb3452c0-0d6c-4167-abb9-9b839197cf58",
    "outputId": "e544b521-7413-4021-c35b-ee2e59336c11"
   },
   "outputs": [
    {
     "data": {
      "text/plain": [
       "int"
      ]
     },
     "execution_count": 16,
     "metadata": {},
     "output_type": "execute_result"
    }
   ],
   "source": [
    "type(df2[\"strength\"][0])"
   ]
  },
  {
   "cell_type": "code",
   "execution_count": 17,
   "id": "1104ad85-063f-462e-8b96-b1503cd8e823",
   "metadata": {
    "id": "1104ad85-063f-462e-8b96-b1503cd8e823"
   },
   "outputs": [],
   "source": [
    "df2[\"strength\"] = df2[\"strength\"].astype(int)"
   ]
  },
  {
   "cell_type": "code",
   "execution_count": 18,
   "id": "691b273e-3c10-47bd-9658-5d571fd29d2b",
   "metadata": {
    "id": "691b273e-3c10-47bd-9658-5d571fd29d2b"
   },
   "outputs": [],
   "source": [
    "df2[\"password\"] = df2[\"password\"].astype(str)"
   ]
  },
  {
   "cell_type": "code",
   "execution_count": 19,
   "id": "7acee31e-d46a-4632-be63-ffb4bca8e99b",
   "metadata": {
    "colab": {
     "base_uri": "https://localhost:8080/"
    },
    "id": "7acee31e-d46a-4632-be63-ffb4bca8e99b",
    "outputId": "34aefaab-89c3-424b-e4a1-a2e737c2bd38"
   },
   "outputs": [
    {
     "data": {
      "text/plain": [
       "367"
      ]
     },
     "execution_count": 19,
     "metadata": {},
     "output_type": "execute_result"
    }
   ],
   "source": [
    "df2[\"password\"].str.isnumeric().sum()\n",
    "# 0 password with only numerics"
   ]
  },
  {
   "cell_type": "code",
   "execution_count": 20,
   "id": "5bde016f-2530-4748-9ab3-509493c3890e",
   "metadata": {
    "colab": {
     "base_uri": "https://localhost:8080/"
    },
    "id": "5bde016f-2530-4748-9ab3-509493c3890e",
    "outputId": "4ee80750-5c2f-42ab-d621-50389c7eed4b"
   },
   "outputs": [
    {
     "data": {
      "text/plain": [
       "10464"
      ]
     },
     "execution_count": 20,
     "metadata": {},
     "output_type": "execute_result"
    }
   ],
   "source": [
    "df2[\"password\"].str.isupper().sum()\n",
    "# all letters are uppercase"
   ]
  },
  {
   "cell_type": "code",
   "execution_count": 21,
   "id": "77be2ca8-0a4f-496d-b12d-6e1a99913b4e",
   "metadata": {
    "colab": {
     "base_uri": "https://localhost:8080/",
     "height": 423
    },
    "id": "77be2ca8-0a4f-496d-b12d-6e1a99913b4e",
    "outputId": "9c6b7b42-8dae-4629-9647-459d99bdaffd"
   },
   "outputs": [
    {
     "data": {
      "text/html": [
       "<div>\n",
       "<style scoped>\n",
       "    .dataframe tbody tr th:only-of-type {\n",
       "        vertical-align: middle;\n",
       "    }\n",
       "\n",
       "    .dataframe tbody tr th {\n",
       "        vertical-align: top;\n",
       "    }\n",
       "\n",
       "    .dataframe thead th {\n",
       "        text-align: right;\n",
       "    }\n",
       "</style>\n",
       "<table border=\"1\" class=\"dataframe\">\n",
       "  <thead>\n",
       "    <tr style=\"text-align: right;\">\n",
       "      <th></th>\n",
       "      <th>password</th>\n",
       "      <th>strength</th>\n",
       "    </tr>\n",
       "  </thead>\n",
       "  <tbody>\n",
       "    <tr>\n",
       "      <th>268</th>\n",
       "      <td>AS0130066</td>\n",
       "      <td>1</td>\n",
       "    </tr>\n",
       "    <tr>\n",
       "      <th>269</th>\n",
       "      <td>QWERTY0011</td>\n",
       "      <td>1</td>\n",
       "    </tr>\n",
       "    <tr>\n",
       "      <th>323</th>\n",
       "      <td>YADHJIGSAWS11</td>\n",
       "      <td>1</td>\n",
       "    </tr>\n",
       "    <tr>\n",
       "      <th>346</th>\n",
       "      <td>IRZA98</td>\n",
       "      <td>0</td>\n",
       "    </tr>\n",
       "    <tr>\n",
       "      <th>486</th>\n",
       "      <td>PEPITO00</td>\n",
       "      <td>1</td>\n",
       "    </tr>\n",
       "    <tr>\n",
       "      <th>...</th>\n",
       "      <td>...</td>\n",
       "      <td>...</td>\n",
       "    </tr>\n",
       "    <tr>\n",
       "      <th>669696</th>\n",
       "      <td>ARNAV_KUSHI</td>\n",
       "      <td>1</td>\n",
       "    </tr>\n",
       "    <tr>\n",
       "      <th>669698</th>\n",
       "      <td>36802907A</td>\n",
       "      <td>1</td>\n",
       "    </tr>\n",
       "    <tr>\n",
       "      <th>669787</th>\n",
       "      <td>MARLENY2090</td>\n",
       "      <td>1</td>\n",
       "    </tr>\n",
       "    <tr>\n",
       "      <th>669795</th>\n",
       "      <td>RHBDJQHJU25</td>\n",
       "      <td>1</td>\n",
       "    </tr>\n",
       "    <tr>\n",
       "      <th>669849</th>\n",
       "      <td>0933674790MAK</td>\n",
       "      <td>1</td>\n",
       "    </tr>\n",
       "  </tbody>\n",
       "</table>\n",
       "<p>10464 rows × 2 columns</p>\n",
       "</div>"
      ],
      "text/plain": [
       "             password  strength\n",
       "268         AS0130066         1\n",
       "269        QWERTY0011         1\n",
       "323     YADHJIGSAWS11         1\n",
       "346            IRZA98         0\n",
       "486          PEPITO00         1\n",
       "...               ...       ...\n",
       "669696    ARNAV_KUSHI         1\n",
       "669698      36802907A         1\n",
       "669787    MARLENY2090         1\n",
       "669795    RHBDJQHJU25         1\n",
       "669849  0933674790MAK         1\n",
       "\n",
       "[10464 rows x 2 columns]"
      ]
     },
     "execution_count": 21,
     "metadata": {},
     "output_type": "execute_result"
    }
   ],
   "source": [
    "df2[df2[\"password\"].str.isupper()]"
   ]
  },
  {
   "cell_type": "code",
   "execution_count": 22,
   "id": "c28eadf2-6931-4307-b1d4-fa4c978f8452",
   "metadata": {
    "colab": {
     "base_uri": "https://localhost:8080/"
    },
    "id": "c28eadf2-6931-4307-b1d4-fa4c978f8452",
    "outputId": "d9b67254-2ee7-4318-ee54-14b9e6b8c2ae"
   },
   "outputs": [
    {
     "data": {
      "text/plain": [
       "317"
      ]
     },
     "execution_count": 22,
     "metadata": {},
     "output_type": "execute_result"
    }
   ],
   "source": [
    "df2[\"password\"].str.isalpha().sum()\n",
    "# only letters"
   ]
  },
  {
   "cell_type": "code",
   "execution_count": 23,
   "id": "ebf9f5d6-f7eb-40a1-97e0-0518ea4b24ac",
   "metadata": {
    "colab": {
     "base_uri": "https://localhost:8080/",
     "height": 423
    },
    "id": "ebf9f5d6-f7eb-40a1-97e0-0518ea4b24ac",
    "outputId": "d99b460d-b1bc-42a2-c9d9-91be0d3a3382"
   },
   "outputs": [
    {
     "data": {
      "text/html": [
       "<div>\n",
       "<style scoped>\n",
       "    .dataframe tbody tr th:only-of-type {\n",
       "        vertical-align: middle;\n",
       "    }\n",
       "\n",
       "    .dataframe tbody tr th {\n",
       "        vertical-align: top;\n",
       "    }\n",
       "\n",
       "    .dataframe thead th {\n",
       "        text-align: right;\n",
       "    }\n",
       "</style>\n",
       "<table border=\"1\" class=\"dataframe\">\n",
       "  <thead>\n",
       "    <tr style=\"text-align: right;\">\n",
       "      <th></th>\n",
       "      <th>password</th>\n",
       "      <th>strength</th>\n",
       "    </tr>\n",
       "  </thead>\n",
       "  <tbody>\n",
       "    <tr>\n",
       "      <th>231</th>\n",
       "      <td>gtlek</td>\n",
       "      <td>0</td>\n",
       "    </tr>\n",
       "    <tr>\n",
       "      <th>4603</th>\n",
       "      <td>trcske</td>\n",
       "      <td>0</td>\n",
       "    </tr>\n",
       "    <tr>\n",
       "      <th>6098</th>\n",
       "      <td>jijik</td>\n",
       "      <td>0</td>\n",
       "    </tr>\n",
       "    <tr>\n",
       "      <th>6502</th>\n",
       "      <td>piccolo</td>\n",
       "      <td>0</td>\n",
       "    </tr>\n",
       "    <tr>\n",
       "      <th>10743</th>\n",
       "      <td>Stphane</td>\n",
       "      <td>0</td>\n",
       "    </tr>\n",
       "    <tr>\n",
       "      <th>...</th>\n",
       "      <td>...</td>\n",
       "      <td>...</td>\n",
       "    </tr>\n",
       "    <tr>\n",
       "      <th>655665</th>\n",
       "      <td>paoca</td>\n",
       "      <td>0</td>\n",
       "    </tr>\n",
       "    <tr>\n",
       "      <th>656282</th>\n",
       "      <td>vntm</td>\n",
       "      <td>0</td>\n",
       "    </tr>\n",
       "    <tr>\n",
       "      <th>657812</th>\n",
       "      <td>fuckyou</td>\n",
       "      <td>0</td>\n",
       "    </tr>\n",
       "    <tr>\n",
       "      <th>666516</th>\n",
       "      <td>mueco</td>\n",
       "      <td>0</td>\n",
       "    </tr>\n",
       "    <tr>\n",
       "      <th>666973</th>\n",
       "      <td>CARRIO</td>\n",
       "      <td>0</td>\n",
       "    </tr>\n",
       "  </tbody>\n",
       "</table>\n",
       "<p>317 rows × 2 columns</p>\n",
       "</div>"
      ],
      "text/plain": [
       "       password  strength\n",
       "231       gtlek         0\n",
       "4603     trcske         0\n",
       "6098      jijik         0\n",
       "6502    piccolo         0\n",
       "10743   Stphane         0\n",
       "...         ...       ...\n",
       "655665    paoca         0\n",
       "656282     vntm         0\n",
       "657812  fuckyou         0\n",
       "666516    mueco         0\n",
       "666973   CARRIO         0\n",
       "\n",
       "[317 rows x 2 columns]"
      ]
     },
     "execution_count": 23,
     "metadata": {},
     "output_type": "execute_result"
    }
   ],
   "source": [
    "df2[df2[\"password\"].str.isalpha()]"
   ]
  },
  {
   "cell_type": "code",
   "execution_count": 24,
   "id": "f505d956-d704-47ed-ad8a-95980c8bd5c8",
   "metadata": {
    "colab": {
     "base_uri": "https://localhost:8080/"
    },
    "id": "f505d956-d704-47ed-ad8a-95980c8bd5c8",
    "outputId": "08a11e7a-ad69-48f9-cdf2-4dfd144fa67e"
   },
   "outputs": [
    {
     "data": {
      "text/plain": [
       "650258"
      ]
     },
     "execution_count": 24,
     "metadata": {},
     "output_type": "execute_result"
    }
   ],
   "source": [
    "df2[\"password\"].str.isalnum().sum()\n",
    "# only numbers and letters"
   ]
  },
  {
   "cell_type": "code",
   "execution_count": 25,
   "id": "130628f0-cb7c-462b-9bca-a5cf6bc74c27",
   "metadata": {
    "colab": {
     "base_uri": "https://localhost:8080/"
    },
    "id": "130628f0-cb7c-462b-9bca-a5cf6bc74c27",
    "outputId": "7c374b67-3518-43d4-99e4-d2405afe9613"
   },
   "outputs": [
    {
     "data": {
      "text/plain": [
       "6286"
      ]
     },
     "execution_count": 25,
     "metadata": {},
     "output_type": "execute_result"
    }
   ],
   "source": [
    "df2[\"password\"].str.istitle().sum()\n",
    "# first emerging letter is capital"
   ]
  },
  {
   "cell_type": "code",
   "execution_count": 26,
   "id": "8f7fc297-3738-4bdb-8898-3c26eda989a2",
   "metadata": {
    "colab": {
     "base_uri": "https://localhost:8080/",
     "height": 423
    },
    "id": "8f7fc297-3738-4bdb-8898-3c26eda989a2",
    "outputId": "d0b25fa8-3bed-4ee8-9194-563bb11cb0a0"
   },
   "outputs": [
    {
     "data": {
      "text/html": [
       "<div>\n",
       "<style scoped>\n",
       "    .dataframe tbody tr th:only-of-type {\n",
       "        vertical-align: middle;\n",
       "    }\n",
       "\n",
       "    .dataframe tbody tr th {\n",
       "        vertical-align: top;\n",
       "    }\n",
       "\n",
       "    .dataframe thead th {\n",
       "        text-align: right;\n",
       "    }\n",
       "</style>\n",
       "<table border=\"1\" class=\"dataframe\">\n",
       "  <thead>\n",
       "    <tr style=\"text-align: right;\">\n",
       "      <th></th>\n",
       "      <th>password</th>\n",
       "      <th>strength</th>\n",
       "    </tr>\n",
       "  </thead>\n",
       "  <tbody>\n",
       "    <tr>\n",
       "      <th>65</th>\n",
       "      <td>Iamthelegend1!</td>\n",
       "      <td>2</td>\n",
       "    </tr>\n",
       "    <tr>\n",
       "      <th>369</th>\n",
       "      <td>Staterkom20081993</td>\n",
       "      <td>2</td>\n",
       "    </tr>\n",
       "    <tr>\n",
       "      <th>377</th>\n",
       "      <td>Oshity07142014</td>\n",
       "      <td>2</td>\n",
       "    </tr>\n",
       "    <tr>\n",
       "      <th>464</th>\n",
       "      <td>Scipio21152030067254</td>\n",
       "      <td>2</td>\n",
       "    </tr>\n",
       "    <tr>\n",
       "      <th>546</th>\n",
       "      <td>1A2Z3E4R</td>\n",
       "      <td>1</td>\n",
       "    </tr>\n",
       "    <tr>\n",
       "      <th>...</th>\n",
       "      <td>...</td>\n",
       "      <td>...</td>\n",
       "    </tr>\n",
       "    <tr>\n",
       "      <th>669317</th>\n",
       "      <td>Kustyk33935432</td>\n",
       "      <td>2</td>\n",
       "    </tr>\n",
       "    <tr>\n",
       "      <th>669395</th>\n",
       "      <td>28091974Zezinho</td>\n",
       "      <td>2</td>\n",
       "    </tr>\n",
       "    <tr>\n",
       "      <th>669437</th>\n",
       "      <td>City&amp;Colour241091</td>\n",
       "      <td>2</td>\n",
       "    </tr>\n",
       "    <tr>\n",
       "      <th>669471</th>\n",
       "      <td>Codificando10~</td>\n",
       "      <td>2</td>\n",
       "    </tr>\n",
       "    <tr>\n",
       "      <th>669698</th>\n",
       "      <td>36802907A</td>\n",
       "      <td>1</td>\n",
       "    </tr>\n",
       "  </tbody>\n",
       "</table>\n",
       "<p>6286 rows × 2 columns</p>\n",
       "</div>"
      ],
      "text/plain": [
       "                    password  strength\n",
       "65            Iamthelegend1!         2\n",
       "369        Staterkom20081993         2\n",
       "377           Oshity07142014         2\n",
       "464     Scipio21152030067254         2\n",
       "546                 1A2Z3E4R         1\n",
       "...                      ...       ...\n",
       "669317        Kustyk33935432         2\n",
       "669395       28091974Zezinho         2\n",
       "669437     City&Colour241091         2\n",
       "669471        Codificando10~         2\n",
       "669698             36802907A         1\n",
       "\n",
       "[6286 rows x 2 columns]"
      ]
     },
     "execution_count": 26,
     "metadata": {},
     "output_type": "execute_result"
    }
   ],
   "source": [
    "df2[df2[\"password\"].str.istitle()]"
   ]
  },
  {
   "cell_type": "code",
   "execution_count": 27,
   "id": "ea80d89b-c8de-4f65-b0c8-65b90a4781a4",
   "metadata": {
    "colab": {
     "base_uri": "https://localhost:8080/"
    },
    "id": "ea80d89b-c8de-4f65-b0c8-65b90a4781a4",
    "outputId": "b937a703-868b-4816-d9dc-e162f66ff8b2"
   },
   "outputs": [
    {
     "name": "stderr",
     "output_type": "stream",
     "text": [
      "ERROR: Could not find a version that satisfies the requirement string (from versions: none)\n",
      "ERROR: No matching distribution found for string\n"
     ]
    }
   ],
   "source": [
    "!pip install string"
   ]
  },
  {
   "cell_type": "code",
   "execution_count": 28,
   "id": "ec583972-6b20-4406-9f8a-8fd02b0cdfe2",
   "metadata": {
    "id": "ec583972-6b20-4406-9f8a-8fd02b0cdfe2"
   },
   "outputs": [],
   "source": [
    "import string"
   ]
  },
  {
   "cell_type": "code",
   "execution_count": 29,
   "id": "fc13a158-d59a-4202-a89b-1659fdcaf682",
   "metadata": {
    "colab": {
     "base_uri": "https://localhost:8080/",
     "height": 36
    },
    "id": "fc13a158-d59a-4202-a89b-1659fdcaf682",
    "outputId": "2ce7406b-f54e-45d5-9658-4b7b61483000"
   },
   "outputs": [
    {
     "data": {
      "text/plain": [
       "'!\"#$%&\\'()*+,-./:;<=>?@[\\\\]^_`{|}~'"
      ]
     },
     "execution_count": 29,
     "metadata": {},
     "output_type": "execute_result"
    }
   ],
   "source": [
    "string.punctuation"
   ]
  },
  {
   "cell_type": "code",
   "execution_count": 30,
   "id": "7e0c540a-0e08-487d-a8f1-414e6a5a64b8",
   "metadata": {
    "id": "7e0c540a-0e08-487d-a8f1-414e6a5a64b8"
   },
   "outputs": [],
   "source": [
    "def find_semantics(row):\n",
    "    for char in row:\n",
    "        if char in string.punctuation:\n",
    "            return 1\n",
    "        else:\n",
    "            pass\n",
    "# whether password contains specail character"
   ]
  },
  {
   "cell_type": "code",
   "execution_count": 31,
   "id": "6144721c-5d08-4e33-b335-eaabaed35754",
   "metadata": {
    "id": "6144721c-5d08-4e33-b335-eaabaed35754"
   },
   "outputs": [],
   "source": [
    "df2[\"password\"] = df2[\"password\"].astype(str)"
   ]
  },
  {
   "cell_type": "code",
   "execution_count": 32,
   "id": "85360c74-a723-41e7-a11a-cef9952fefe9",
   "metadata": {
    "colab": {
     "base_uri": "https://localhost:8080/"
    },
    "id": "85360c74-a723-41e7-a11a-cef9952fefe9",
    "outputId": "c51537ad-0b5c-4a0c-a75d-01680d696391"
   },
   "outputs": [
    {
     "data": {
      "text/plain": [
       "18408"
      ]
     },
     "execution_count": 32,
     "metadata": {},
     "output_type": "execute_result"
    }
   ],
   "source": [
    "(df2[\"password\"].apply(find_semantics)==1).sum()"
   ]
  },
  {
   "cell_type": "code",
   "execution_count": 33,
   "id": "09ec65f3-ca64-43e2-8c35-407427466ee7",
   "metadata": {
    "colab": {
     "base_uri": "https://localhost:8080/",
     "height": 423
    },
    "id": "09ec65f3-ca64-43e2-8c35-407427466ee7",
    "outputId": "1105604b-4d19-4940-b806-5410c426e248"
   },
   "outputs": [
    {
     "data": {
      "text/html": [
       "<div>\n",
       "<style scoped>\n",
       "    .dataframe tbody tr th:only-of-type {\n",
       "        vertical-align: middle;\n",
       "    }\n",
       "\n",
       "    .dataframe tbody tr th {\n",
       "        vertical-align: top;\n",
       "    }\n",
       "\n",
       "    .dataframe thead th {\n",
       "        text-align: right;\n",
       "    }\n",
       "</style>\n",
       "<table border=\"1\" class=\"dataframe\">\n",
       "  <thead>\n",
       "    <tr style=\"text-align: right;\">\n",
       "      <th></th>\n",
       "      <th>password</th>\n",
       "      <th>strength</th>\n",
       "    </tr>\n",
       "  </thead>\n",
       "  <tbody>\n",
       "    <tr>\n",
       "      <th>20</th>\n",
       "      <td>elyass15@ajilent-ci</td>\n",
       "      <td>2</td>\n",
       "    </tr>\n",
       "    <tr>\n",
       "      <th>22</th>\n",
       "      <td>klara-tershina3H</td>\n",
       "      <td>2</td>\n",
       "    </tr>\n",
       "    <tr>\n",
       "      <th>44</th>\n",
       "      <td>olmaz.</td>\n",
       "      <td>0</td>\n",
       "    </tr>\n",
       "    <tr>\n",
       "      <th>50</th>\n",
       "      <td>ok&gt;bdk</td>\n",
       "      <td>0</td>\n",
       "    </tr>\n",
       "    <tr>\n",
       "      <th>60</th>\n",
       "      <td>khmer100.03278&amp;?&gt;&lt;Mnb</td>\n",
       "      <td>2</td>\n",
       "    </tr>\n",
       "    <tr>\n",
       "      <th>...</th>\n",
       "      <td>...</td>\n",
       "      <td>...</td>\n",
       "    </tr>\n",
       "    <tr>\n",
       "      <th>669792</th>\n",
       "      <td>gRAPEHORSE_289</td>\n",
       "      <td>2</td>\n",
       "    </tr>\n",
       "    <tr>\n",
       "      <th>669845</th>\n",
       "      <td>Felidae_blckPanther001</td>\n",
       "      <td>2</td>\n",
       "    </tr>\n",
       "    <tr>\n",
       "      <th>669857</th>\n",
       "      <td>juanpaganini588@gmail.com</td>\n",
       "      <td>2</td>\n",
       "    </tr>\n",
       "    <tr>\n",
       "      <th>669861</th>\n",
       "      <td>weslley.06888524</td>\n",
       "      <td>2</td>\n",
       "    </tr>\n",
       "    <tr>\n",
       "      <th>669866</th>\n",
       "      <td>sakaryal&amp;#305;</td>\n",
       "      <td>2</td>\n",
       "    </tr>\n",
       "  </tbody>\n",
       "</table>\n",
       "<p>18408 rows × 2 columns</p>\n",
       "</div>"
      ],
      "text/plain": [
       "                         password  strength\n",
       "20            elyass15@ajilent-ci         2\n",
       "22               klara-tershina3H         2\n",
       "44                         olmaz.         0\n",
       "50                         ok>bdk         0\n",
       "60          khmer100.03278&?><Mnb         2\n",
       "...                           ...       ...\n",
       "669792             gRAPEHORSE_289         2\n",
       "669845     Felidae_blckPanther001         2\n",
       "669857  juanpaganini588@gmail.com         2\n",
       "669861           weslley.06888524         2\n",
       "669866             sakaryal&#305;         2\n",
       "\n",
       "[18408 rows x 2 columns]"
      ]
     },
     "execution_count": 33,
     "metadata": {},
     "output_type": "execute_result"
    }
   ],
   "source": [
    "df2[df2[\"password\"].apply(find_semantics)==1]"
   ]
  },
  {
   "cell_type": "markdown",
   "id": "b5724e6d-dad2-4f83-a433-fd7c684bebcf",
   "metadata": {
    "id": "b5724e6d-dad2-4f83-a433-fd7c684bebcf"
   },
   "source": [
    "<h2 style=\"font-size: 24px; font-weight: bold;\">Feature Engineering</h2>"
   ]
  },
  {
   "cell_type": "code",
   "execution_count": 34,
   "id": "003dd478-1aa7-4d1a-bd69-f7dc6d6ee737",
   "metadata": {
    "id": "003dd478-1aa7-4d1a-bd69-f7dc6d6ee737"
   },
   "outputs": [],
   "source": [
    "# length of password"
   ]
  },
  {
   "cell_type": "code",
   "execution_count": 35,
   "id": "6db15971-494f-4097-bcda-5ef978132d22",
   "metadata": {
    "id": "6db15971-494f-4097-bcda-5ef978132d22"
   },
   "outputs": [],
   "source": [
    "df2[\"length\"] = df2[\"password\"].str.len()"
   ]
  },
  {
   "cell_type": "code",
   "execution_count": 36,
   "id": "fc209f17-c4db-49e9-a0c7-86a5ef6e89d7",
   "metadata": {
    "colab": {
     "base_uri": "https://localhost:8080/",
     "height": 206
    },
    "id": "fc209f17-c4db-49e9-a0c7-86a5ef6e89d7",
    "outputId": "ec7378f2-4113-4857-e3e6-708cac4bd1c1"
   },
   "outputs": [
    {
     "data": {
      "text/html": [
       "<div>\n",
       "<style scoped>\n",
       "    .dataframe tbody tr th:only-of-type {\n",
       "        vertical-align: middle;\n",
       "    }\n",
       "\n",
       "    .dataframe tbody tr th {\n",
       "        vertical-align: top;\n",
       "    }\n",
       "\n",
       "    .dataframe thead th {\n",
       "        text-align: right;\n",
       "    }\n",
       "</style>\n",
       "<table border=\"1\" class=\"dataframe\">\n",
       "  <thead>\n",
       "    <tr style=\"text-align: right;\">\n",
       "      <th></th>\n",
       "      <th>password</th>\n",
       "      <th>strength</th>\n",
       "      <th>length</th>\n",
       "    </tr>\n",
       "  </thead>\n",
       "  <tbody>\n",
       "    <tr>\n",
       "      <th>0</th>\n",
       "      <td>kzde5577</td>\n",
       "      <td>1</td>\n",
       "      <td>8</td>\n",
       "    </tr>\n",
       "    <tr>\n",
       "      <th>1</th>\n",
       "      <td>kino3434</td>\n",
       "      <td>1</td>\n",
       "      <td>8</td>\n",
       "    </tr>\n",
       "    <tr>\n",
       "      <th>2</th>\n",
       "      <td>visi7k1yr</td>\n",
       "      <td>1</td>\n",
       "      <td>9</td>\n",
       "    </tr>\n",
       "    <tr>\n",
       "      <th>3</th>\n",
       "      <td>megzy123</td>\n",
       "      <td>1</td>\n",
       "      <td>8</td>\n",
       "    </tr>\n",
       "    <tr>\n",
       "      <th>4</th>\n",
       "      <td>lamborghin1</td>\n",
       "      <td>1</td>\n",
       "      <td>11</td>\n",
       "    </tr>\n",
       "  </tbody>\n",
       "</table>\n",
       "</div>"
      ],
      "text/plain": [
       "      password  strength  length\n",
       "0     kzde5577         1       8\n",
       "1     kino3434         1       8\n",
       "2    visi7k1yr         1       9\n",
       "3     megzy123         1       8\n",
       "4  lamborghin1         1      11"
      ]
     },
     "execution_count": 36,
     "metadata": {},
     "output_type": "execute_result"
    }
   ],
   "source": [
    "df2.head()"
   ]
  },
  {
   "cell_type": "code",
   "execution_count": 37,
   "id": "6b4c8bdd-35e9-47b6-9128-505631401f7c",
   "metadata": {
    "id": "6b4c8bdd-35e9-47b6-9128-505631401f7c"
   },
   "outputs": [],
   "source": [
    "# frequency of lowercase letters"
   ]
  },
  {
   "cell_type": "code",
   "execution_count": 38,
   "id": "5fb64e98-b3ab-44ac-91e6-f09cc6d99c88",
   "metadata": {
    "id": "5fb64e98-b3ab-44ac-91e6-f09cc6d99c88"
   },
   "outputs": [],
   "source": [
    "def lowercase(row):\n",
    "    return len([char for char in row if char.islower()])/len(row)"
   ]
  },
  {
   "cell_type": "code",
   "execution_count": 39,
   "id": "2f5d97c0-44be-45fb-8d01-a8ef10164ee8",
   "metadata": {
    "id": "2f5d97c0-44be-45fb-8d01-a8ef10164ee8"
   },
   "outputs": [],
   "source": [
    "df2[\"lowercase_freq\"] = df2[\"password\"].apply(lowercase)"
   ]
  },
  {
   "cell_type": "code",
   "execution_count": 40,
   "id": "65956187-710e-4648-86e4-acac30413659",
   "metadata": {
    "colab": {
     "base_uri": "https://localhost:8080/",
     "height": 206
    },
    "id": "65956187-710e-4648-86e4-acac30413659",
    "outputId": "19cbfe85-23f3-4f7f-c580-c154fce186b6"
   },
   "outputs": [
    {
     "data": {
      "text/html": [
       "<div>\n",
       "<style scoped>\n",
       "    .dataframe tbody tr th:only-of-type {\n",
       "        vertical-align: middle;\n",
       "    }\n",
       "\n",
       "    .dataframe tbody tr th {\n",
       "        vertical-align: top;\n",
       "    }\n",
       "\n",
       "    .dataframe thead th {\n",
       "        text-align: right;\n",
       "    }\n",
       "</style>\n",
       "<table border=\"1\" class=\"dataframe\">\n",
       "  <thead>\n",
       "    <tr style=\"text-align: right;\">\n",
       "      <th></th>\n",
       "      <th>password</th>\n",
       "      <th>strength</th>\n",
       "      <th>length</th>\n",
       "      <th>lowercase_freq</th>\n",
       "    </tr>\n",
       "  </thead>\n",
       "  <tbody>\n",
       "    <tr>\n",
       "      <th>0</th>\n",
       "      <td>kzde5577</td>\n",
       "      <td>1</td>\n",
       "      <td>8</td>\n",
       "      <td>0.500000</td>\n",
       "    </tr>\n",
       "    <tr>\n",
       "      <th>1</th>\n",
       "      <td>kino3434</td>\n",
       "      <td>1</td>\n",
       "      <td>8</td>\n",
       "      <td>0.500000</td>\n",
       "    </tr>\n",
       "    <tr>\n",
       "      <th>2</th>\n",
       "      <td>visi7k1yr</td>\n",
       "      <td>1</td>\n",
       "      <td>9</td>\n",
       "      <td>0.777778</td>\n",
       "    </tr>\n",
       "    <tr>\n",
       "      <th>3</th>\n",
       "      <td>megzy123</td>\n",
       "      <td>1</td>\n",
       "      <td>8</td>\n",
       "      <td>0.625000</td>\n",
       "    </tr>\n",
       "    <tr>\n",
       "      <th>4</th>\n",
       "      <td>lamborghin1</td>\n",
       "      <td>1</td>\n",
       "      <td>11</td>\n",
       "      <td>0.909091</td>\n",
       "    </tr>\n",
       "  </tbody>\n",
       "</table>\n",
       "</div>"
      ],
      "text/plain": [
       "      password  strength  length  lowercase_freq\n",
       "0     kzde5577         1       8        0.500000\n",
       "1     kino3434         1       8        0.500000\n",
       "2    visi7k1yr         1       9        0.777778\n",
       "3     megzy123         1       8        0.625000\n",
       "4  lamborghin1         1      11        0.909091"
      ]
     },
     "execution_count": 40,
     "metadata": {},
     "output_type": "execute_result"
    }
   ],
   "source": [
    "df2.head()"
   ]
  },
  {
   "cell_type": "code",
   "execution_count": 41,
   "id": "d7ca3a03-2c9d-4708-9908-7471b632a85f",
   "metadata": {
    "id": "d7ca3a03-2c9d-4708-9908-7471b632a85f"
   },
   "outputs": [],
   "source": [
    "# # frequency of uppercase letters"
   ]
  },
  {
   "cell_type": "code",
   "execution_count": 42,
   "id": "ee21bb5b-2eb7-4657-8e7c-717e33fba65f",
   "metadata": {
    "id": "ee21bb5b-2eb7-4657-8e7c-717e33fba65f"
   },
   "outputs": [],
   "source": [
    "def uppercase(row):\n",
    "    return len([char for char in row if char.isupper()])/len(row)"
   ]
  },
  {
   "cell_type": "code",
   "execution_count": 43,
   "id": "efc185fa-9540-4311-813e-79e75c7858bf",
   "metadata": {
    "id": "efc185fa-9540-4311-813e-79e75c7858bf"
   },
   "outputs": [],
   "source": [
    "df2[\"uppercase_freq\"] = df2[\"password\"].apply(uppercase)"
   ]
  },
  {
   "cell_type": "code",
   "execution_count": 44,
   "id": "92575133-2328-418c-afec-0814026cb3fe",
   "metadata": {
    "colab": {
     "base_uri": "https://localhost:8080/",
     "height": 206
    },
    "id": "92575133-2328-418c-afec-0814026cb3fe",
    "outputId": "dc4dbe7d-a652-4b6a-a782-c11dd9b30e9c"
   },
   "outputs": [
    {
     "data": {
      "text/html": [
       "<div>\n",
       "<style scoped>\n",
       "    .dataframe tbody tr th:only-of-type {\n",
       "        vertical-align: middle;\n",
       "    }\n",
       "\n",
       "    .dataframe tbody tr th {\n",
       "        vertical-align: top;\n",
       "    }\n",
       "\n",
       "    .dataframe thead th {\n",
       "        text-align: right;\n",
       "    }\n",
       "</style>\n",
       "<table border=\"1\" class=\"dataframe\">\n",
       "  <thead>\n",
       "    <tr style=\"text-align: right;\">\n",
       "      <th></th>\n",
       "      <th>password</th>\n",
       "      <th>strength</th>\n",
       "      <th>length</th>\n",
       "      <th>lowercase_freq</th>\n",
       "      <th>uppercase_freq</th>\n",
       "    </tr>\n",
       "  </thead>\n",
       "  <tbody>\n",
       "    <tr>\n",
       "      <th>0</th>\n",
       "      <td>kzde5577</td>\n",
       "      <td>1</td>\n",
       "      <td>8</td>\n",
       "      <td>0.500000</td>\n",
       "      <td>0.0</td>\n",
       "    </tr>\n",
       "    <tr>\n",
       "      <th>1</th>\n",
       "      <td>kino3434</td>\n",
       "      <td>1</td>\n",
       "      <td>8</td>\n",
       "      <td>0.500000</td>\n",
       "      <td>0.0</td>\n",
       "    </tr>\n",
       "    <tr>\n",
       "      <th>2</th>\n",
       "      <td>visi7k1yr</td>\n",
       "      <td>1</td>\n",
       "      <td>9</td>\n",
       "      <td>0.777778</td>\n",
       "      <td>0.0</td>\n",
       "    </tr>\n",
       "    <tr>\n",
       "      <th>3</th>\n",
       "      <td>megzy123</td>\n",
       "      <td>1</td>\n",
       "      <td>8</td>\n",
       "      <td>0.625000</td>\n",
       "      <td>0.0</td>\n",
       "    </tr>\n",
       "    <tr>\n",
       "      <th>4</th>\n",
       "      <td>lamborghin1</td>\n",
       "      <td>1</td>\n",
       "      <td>11</td>\n",
       "      <td>0.909091</td>\n",
       "      <td>0.0</td>\n",
       "    </tr>\n",
       "  </tbody>\n",
       "</table>\n",
       "</div>"
      ],
      "text/plain": [
       "      password  strength  length  lowercase_freq  uppercase_freq\n",
       "0     kzde5577         1       8        0.500000             0.0\n",
       "1     kino3434         1       8        0.500000             0.0\n",
       "2    visi7k1yr         1       9        0.777778             0.0\n",
       "3     megzy123         1       8        0.625000             0.0\n",
       "4  lamborghin1         1      11        0.909091             0.0"
      ]
     },
     "execution_count": 44,
     "metadata": {},
     "output_type": "execute_result"
    }
   ],
   "source": [
    "df2.head()"
   ]
  },
  {
   "cell_type": "code",
   "execution_count": 45,
   "id": "99ba48a8-c879-4095-94cd-7294feef1dd7",
   "metadata": {
    "id": "99ba48a8-c879-4095-94cd-7294feef1dd7"
   },
   "outputs": [],
   "source": [
    "# frequency of numeric characters"
   ]
  },
  {
   "cell_type": "code",
   "execution_count": 46,
   "id": "ddd19025-3226-4fa5-9e87-3c38c28a5b92",
   "metadata": {
    "id": "ddd19025-3226-4fa5-9e87-3c38c28a5b92"
   },
   "outputs": [],
   "source": [
    "def digit(row):\n",
    "    return len([char for char in row if char.isdigit()])/len(row)"
   ]
  },
  {
   "cell_type": "code",
   "execution_count": 47,
   "id": "f20fa9bd-b3f9-4add-869b-d4e0e35be7e2",
   "metadata": {
    "id": "f20fa9bd-b3f9-4add-869b-d4e0e35be7e2"
   },
   "outputs": [],
   "source": [
    "df2[\"digit_freq\"] = df2[\"password\"].apply(digit)"
   ]
  },
  {
   "cell_type": "code",
   "execution_count": 48,
   "id": "5955bb31-155e-4410-8689-9c3a037f5ded",
   "metadata": {
    "colab": {
     "base_uri": "https://localhost:8080/",
     "height": 206
    },
    "id": "5955bb31-155e-4410-8689-9c3a037f5ded",
    "outputId": "a5d17e81-0129-4949-875e-950bbcd119b8"
   },
   "outputs": [
    {
     "data": {
      "text/html": [
       "<div>\n",
       "<style scoped>\n",
       "    .dataframe tbody tr th:only-of-type {\n",
       "        vertical-align: middle;\n",
       "    }\n",
       "\n",
       "    .dataframe tbody tr th {\n",
       "        vertical-align: top;\n",
       "    }\n",
       "\n",
       "    .dataframe thead th {\n",
       "        text-align: right;\n",
       "    }\n",
       "</style>\n",
       "<table border=\"1\" class=\"dataframe\">\n",
       "  <thead>\n",
       "    <tr style=\"text-align: right;\">\n",
       "      <th></th>\n",
       "      <th>password</th>\n",
       "      <th>strength</th>\n",
       "      <th>length</th>\n",
       "      <th>lowercase_freq</th>\n",
       "      <th>uppercase_freq</th>\n",
       "      <th>digit_freq</th>\n",
       "    </tr>\n",
       "  </thead>\n",
       "  <tbody>\n",
       "    <tr>\n",
       "      <th>0</th>\n",
       "      <td>kzde5577</td>\n",
       "      <td>1</td>\n",
       "      <td>8</td>\n",
       "      <td>0.500000</td>\n",
       "      <td>0.0</td>\n",
       "      <td>0.500000</td>\n",
       "    </tr>\n",
       "    <tr>\n",
       "      <th>1</th>\n",
       "      <td>kino3434</td>\n",
       "      <td>1</td>\n",
       "      <td>8</td>\n",
       "      <td>0.500000</td>\n",
       "      <td>0.0</td>\n",
       "      <td>0.500000</td>\n",
       "    </tr>\n",
       "    <tr>\n",
       "      <th>2</th>\n",
       "      <td>visi7k1yr</td>\n",
       "      <td>1</td>\n",
       "      <td>9</td>\n",
       "      <td>0.777778</td>\n",
       "      <td>0.0</td>\n",
       "      <td>0.222222</td>\n",
       "    </tr>\n",
       "    <tr>\n",
       "      <th>3</th>\n",
       "      <td>megzy123</td>\n",
       "      <td>1</td>\n",
       "      <td>8</td>\n",
       "      <td>0.625000</td>\n",
       "      <td>0.0</td>\n",
       "      <td>0.375000</td>\n",
       "    </tr>\n",
       "    <tr>\n",
       "      <th>4</th>\n",
       "      <td>lamborghin1</td>\n",
       "      <td>1</td>\n",
       "      <td>11</td>\n",
       "      <td>0.909091</td>\n",
       "      <td>0.0</td>\n",
       "      <td>0.090909</td>\n",
       "    </tr>\n",
       "  </tbody>\n",
       "</table>\n",
       "</div>"
      ],
      "text/plain": [
       "      password  strength  length  lowercase_freq  uppercase_freq  digit_freq\n",
       "0     kzde5577         1       8        0.500000             0.0    0.500000\n",
       "1     kino3434         1       8        0.500000             0.0    0.500000\n",
       "2    visi7k1yr         1       9        0.777778             0.0    0.222222\n",
       "3     megzy123         1       8        0.625000             0.0    0.375000\n",
       "4  lamborghin1         1      11        0.909091             0.0    0.090909"
      ]
     },
     "execution_count": 48,
     "metadata": {},
     "output_type": "execute_result"
    }
   ],
   "source": [
    "df2.head()"
   ]
  },
  {
   "cell_type": "code",
   "execution_count": 49,
   "id": "384156fc-56ef-4ed9-9ac5-7519975d881c",
   "metadata": {
    "id": "384156fc-56ef-4ed9-9ac5-7519975d881c"
   },
   "outputs": [],
   "source": [
    "# frequency of special characters"
   ]
  },
  {
   "cell_type": "code",
   "execution_count": 50,
   "id": "272ce4ea-aae7-44ce-b153-20c9d3f3d528",
   "metadata": {
    "id": "272ce4ea-aae7-44ce-b153-20c9d3f3d528"
   },
   "outputs": [],
   "source": [
    "def special_char(row):\n",
    "    special_chars = []\n",
    "    for char in row:\n",
    "        if not char.isalpha() and not char.isdigit():\n",
    "            special_chars.append(char)\n",
    "    return len(special_chars)/len(row)"
   ]
  },
  {
   "cell_type": "code",
   "execution_count": 51,
   "id": "bd4de93c-92ab-4c68-873b-b54d39d98a3d",
   "metadata": {
    "id": "bd4de93c-92ab-4c68-873b-b54d39d98a3d"
   },
   "outputs": [],
   "source": [
    "df2[\"special_char_freq\"] = df2[\"password\"].apply(special_char)"
   ]
  },
  {
   "cell_type": "code",
   "execution_count": 52,
   "id": "d13ab1fa-43ce-4d82-9895-6da167804839",
   "metadata": {
    "colab": {
     "base_uri": "https://localhost:8080/",
     "height": 206
    },
    "id": "d13ab1fa-43ce-4d82-9895-6da167804839",
    "outputId": "21b0567e-fb5a-4e9f-d3a3-ed1bacc4ece3"
   },
   "outputs": [
    {
     "data": {
      "text/html": [
       "<div>\n",
       "<style scoped>\n",
       "    .dataframe tbody tr th:only-of-type {\n",
       "        vertical-align: middle;\n",
       "    }\n",
       "\n",
       "    .dataframe tbody tr th {\n",
       "        vertical-align: top;\n",
       "    }\n",
       "\n",
       "    .dataframe thead th {\n",
       "        text-align: right;\n",
       "    }\n",
       "</style>\n",
       "<table border=\"1\" class=\"dataframe\">\n",
       "  <thead>\n",
       "    <tr style=\"text-align: right;\">\n",
       "      <th></th>\n",
       "      <th>password</th>\n",
       "      <th>strength</th>\n",
       "      <th>length</th>\n",
       "      <th>lowercase_freq</th>\n",
       "      <th>uppercase_freq</th>\n",
       "      <th>digit_freq</th>\n",
       "      <th>special_char_freq</th>\n",
       "    </tr>\n",
       "  </thead>\n",
       "  <tbody>\n",
       "    <tr>\n",
       "      <th>0</th>\n",
       "      <td>kzde5577</td>\n",
       "      <td>1</td>\n",
       "      <td>8</td>\n",
       "      <td>0.500000</td>\n",
       "      <td>0.0</td>\n",
       "      <td>0.500000</td>\n",
       "      <td>0.0</td>\n",
       "    </tr>\n",
       "    <tr>\n",
       "      <th>1</th>\n",
       "      <td>kino3434</td>\n",
       "      <td>1</td>\n",
       "      <td>8</td>\n",
       "      <td>0.500000</td>\n",
       "      <td>0.0</td>\n",
       "      <td>0.500000</td>\n",
       "      <td>0.0</td>\n",
       "    </tr>\n",
       "    <tr>\n",
       "      <th>2</th>\n",
       "      <td>visi7k1yr</td>\n",
       "      <td>1</td>\n",
       "      <td>9</td>\n",
       "      <td>0.777778</td>\n",
       "      <td>0.0</td>\n",
       "      <td>0.222222</td>\n",
       "      <td>0.0</td>\n",
       "    </tr>\n",
       "    <tr>\n",
       "      <th>3</th>\n",
       "      <td>megzy123</td>\n",
       "      <td>1</td>\n",
       "      <td>8</td>\n",
       "      <td>0.625000</td>\n",
       "      <td>0.0</td>\n",
       "      <td>0.375000</td>\n",
       "      <td>0.0</td>\n",
       "    </tr>\n",
       "    <tr>\n",
       "      <th>4</th>\n",
       "      <td>lamborghin1</td>\n",
       "      <td>1</td>\n",
       "      <td>11</td>\n",
       "      <td>0.909091</td>\n",
       "      <td>0.0</td>\n",
       "      <td>0.090909</td>\n",
       "      <td>0.0</td>\n",
       "    </tr>\n",
       "  </tbody>\n",
       "</table>\n",
       "</div>"
      ],
      "text/plain": [
       "      password  strength  length  lowercase_freq  uppercase_freq  digit_freq  \\\n",
       "0     kzde5577         1       8        0.500000             0.0    0.500000   \n",
       "1     kino3434         1       8        0.500000             0.0    0.500000   \n",
       "2    visi7k1yr         1       9        0.777778             0.0    0.222222   \n",
       "3     megzy123         1       8        0.625000             0.0    0.375000   \n",
       "4  lamborghin1         1      11        0.909091             0.0    0.090909   \n",
       "\n",
       "   special_char_freq  \n",
       "0                0.0  \n",
       "1                0.0  \n",
       "2                0.0  \n",
       "3                0.0  \n",
       "4                0.0  "
      ]
     },
     "execution_count": 52,
     "metadata": {},
     "output_type": "execute_result"
    }
   ],
   "source": [
    "df2.head()"
   ]
  },
  {
   "cell_type": "code",
   "execution_count": 53,
   "id": "c4842acb-36a6-4f5d-b97f-307bac2f096e",
   "metadata": {
    "id": "c4842acb-36a6-4f5d-b97f-307bac2f096e"
   },
   "outputs": [],
   "source": [
    "df2[\"lowercase_freq\"] = np.round(df2[\"lowercase_freq\"], 3)\n",
    "df2[\"uppercase_freq\"] = np.round(df2[\"uppercase_freq\"], 3)\n",
    "df2[\"digit_freq\"] = np.round(df2[\"digit_freq\"], 3)\n",
    "df2[\"special_char_freq\"] = np.round(df2[\"special_char_freq\"], 3)"
   ]
  },
  {
   "cell_type": "code",
   "execution_count": 54,
   "id": "76f85a8e-0c28-48a9-b2c7-646d62ee61bd",
   "metadata": {
    "colab": {
     "base_uri": "https://localhost:8080/",
     "height": 206
    },
    "id": "76f85a8e-0c28-48a9-b2c7-646d62ee61bd",
    "outputId": "24aa724f-a9c2-4ad8-f7cd-1d8a09ca083c"
   },
   "outputs": [
    {
     "data": {
      "text/html": [
       "<div>\n",
       "<style scoped>\n",
       "    .dataframe tbody tr th:only-of-type {\n",
       "        vertical-align: middle;\n",
       "    }\n",
       "\n",
       "    .dataframe tbody tr th {\n",
       "        vertical-align: top;\n",
       "    }\n",
       "\n",
       "    .dataframe thead th {\n",
       "        text-align: right;\n",
       "    }\n",
       "</style>\n",
       "<table border=\"1\" class=\"dataframe\">\n",
       "  <thead>\n",
       "    <tr style=\"text-align: right;\">\n",
       "      <th></th>\n",
       "      <th>password</th>\n",
       "      <th>strength</th>\n",
       "      <th>length</th>\n",
       "      <th>lowercase_freq</th>\n",
       "      <th>uppercase_freq</th>\n",
       "      <th>digit_freq</th>\n",
       "      <th>special_char_freq</th>\n",
       "    </tr>\n",
       "  </thead>\n",
       "  <tbody>\n",
       "    <tr>\n",
       "      <th>0</th>\n",
       "      <td>kzde5577</td>\n",
       "      <td>1</td>\n",
       "      <td>8</td>\n",
       "      <td>0.500</td>\n",
       "      <td>0.0</td>\n",
       "      <td>0.500</td>\n",
       "      <td>0.0</td>\n",
       "    </tr>\n",
       "    <tr>\n",
       "      <th>1</th>\n",
       "      <td>kino3434</td>\n",
       "      <td>1</td>\n",
       "      <td>8</td>\n",
       "      <td>0.500</td>\n",
       "      <td>0.0</td>\n",
       "      <td>0.500</td>\n",
       "      <td>0.0</td>\n",
       "    </tr>\n",
       "    <tr>\n",
       "      <th>2</th>\n",
       "      <td>visi7k1yr</td>\n",
       "      <td>1</td>\n",
       "      <td>9</td>\n",
       "      <td>0.778</td>\n",
       "      <td>0.0</td>\n",
       "      <td>0.222</td>\n",
       "      <td>0.0</td>\n",
       "    </tr>\n",
       "    <tr>\n",
       "      <th>3</th>\n",
       "      <td>megzy123</td>\n",
       "      <td>1</td>\n",
       "      <td>8</td>\n",
       "      <td>0.625</td>\n",
       "      <td>0.0</td>\n",
       "      <td>0.375</td>\n",
       "      <td>0.0</td>\n",
       "    </tr>\n",
       "    <tr>\n",
       "      <th>4</th>\n",
       "      <td>lamborghin1</td>\n",
       "      <td>1</td>\n",
       "      <td>11</td>\n",
       "      <td>0.909</td>\n",
       "      <td>0.0</td>\n",
       "      <td>0.091</td>\n",
       "      <td>0.0</td>\n",
       "    </tr>\n",
       "  </tbody>\n",
       "</table>\n",
       "</div>"
      ],
      "text/plain": [
       "      password  strength  length  lowercase_freq  uppercase_freq  digit_freq  \\\n",
       "0     kzde5577         1       8           0.500             0.0       0.500   \n",
       "1     kino3434         1       8           0.500             0.0       0.500   \n",
       "2    visi7k1yr         1       9           0.778             0.0       0.222   \n",
       "3     megzy123         1       8           0.625             0.0       0.375   \n",
       "4  lamborghin1         1      11           0.909             0.0       0.091   \n",
       "\n",
       "   special_char_freq  \n",
       "0                0.0  \n",
       "1                0.0  \n",
       "2                0.0  \n",
       "3                0.0  \n",
       "4                0.0  "
      ]
     },
     "execution_count": 54,
     "metadata": {},
     "output_type": "execute_result"
    }
   ],
   "source": [
    "df2.head()"
   ]
  },
  {
   "cell_type": "markdown",
   "id": "83b06c38-07a3-495b-90bb-f70fc89037e6",
   "metadata": {
    "id": "83b06c38-07a3-495b-90bb-f70fc89037e6"
   },
   "source": [
    "<h2 style=\"font-size: 24px; font-weight: bold;\">Data Analysis</h2>"
   ]
  },
  {
   "cell_type": "code",
   "execution_count": 55,
   "id": "644e7cbc-d6a4-40d4-a501-70270cdcfec3",
   "metadata": {
    "colab": {
     "base_uri": "https://localhost:8080/"
    },
    "id": "644e7cbc-d6a4-40d4-a501-70270cdcfec3",
    "outputId": "adf51deb-4f2b-4d05-f489-656714986e17"
   },
   "outputs": [
    {
     "name": "stdout",
     "output_type": "stream",
     "text": [
      "         length                       \n",
      "            min  max       mean median\n",
      "strength                              \n",
      "0             1  257   6.581418    7.0\n",
      "1             3  263   9.633332    9.0\n",
      "2            14  220  15.933567   16.0\n",
      "\n",
      "\n",
      "         lowercase_freq                        \n",
      "                    min    max      mean median\n",
      "strength                                       \n",
      "0                   0.0  1.000  0.707486  0.714\n",
      "1                   0.0  0.923  0.629075  0.667\n",
      "2                   0.0  0.933  0.422615  0.400\n",
      "\n",
      "\n",
      "         uppercase_freq                        \n",
      "                    min    max      mean median\n",
      "strength                                       \n",
      "0                   0.0  1.000  0.012431  0.000\n",
      "1                   0.0  0.923  0.008466  0.000\n",
      "2                   0.0  0.905  0.367318  0.429\n",
      "\n",
      "\n",
      "         digit_freq                        \n",
      "                min    max      mean median\n",
      "strength                                   \n",
      "0               0.0  1.000  0.276304  0.286\n",
      "1               0.0  1.000  0.360261  0.333\n",
      "2               0.0  0.917  0.195970  0.188\n",
      "\n",
      "\n",
      "         special_char_freq                        \n",
      "                       min    max      mean median\n",
      "strength                                          \n",
      "0                      0.0  1.000  0.003779    0.0\n",
      "1                      0.0  0.909  0.002198    0.0\n",
      "2                      0.0  0.741  0.014073    0.0\n",
      "\n",
      "\n"
     ]
    }
   ],
   "source": [
    "cols = ['length', 'lowercase_freq', 'uppercase_freq',\n",
    "       'digit_freq', 'special_char_freq']\n",
    "for col in cols:\n",
    "    print(df2[[col, \"strength\"]].groupby(\"strength\").agg([\"min\", \"max\", \"mean\", \"median\"]))\n",
    "    print(\"\\n\")"
   ]
  },
  {
   "cell_type": "code",
   "execution_count": 56,
   "id": "24efffad-3685-42f8-a392-1da5a3781542",
   "metadata": {
    "colab": {
     "base_uri": "https://localhost:8080/",
     "height": 707
    },
    "id": "24efffad-3685-42f8-a392-1da5a3781542",
    "outputId": "eebd9552-95cd-4cdb-fdc8-f98497532b97"
   },
   "outputs": [
    {
     "data": {
      "image/png": "[encoded data removed]",
      "text/plain": [
       "<Figure size 1000x700 with 6 Axes>"
      ]
     },
     "metadata": {},
     "output_type": "display_data"
    }
   ],
   "source": [
    "fig, axs = plt.subplots(3, 2, figsize = (10, 7))\n",
    "sns.boxplot(x = \"strength\", y = \"length\", data = df2, ax = axs[0, 0])\n",
    "sns.boxplot(x = \"strength\", y = \"lowercase_freq\", data = df2, ax = axs[0, 1])\n",
    "sns.boxplot(x = \"strength\", y = \"uppercase_freq\", data = df2, ax = axs[1, 0])\n",
    "sns.boxplot(x = \"strength\", y = \"digit_freq\", data = df2, ax = axs[1, 1])\n",
    "sns.boxplot(x = \"strength\", y = \"special_char_freq\", data = df2, ax = axs[2, 0])\n",
    "plt.tight_layout()"
   ]
  },
  {
   "cell_type": "markdown",
   "id": "ab0d4b33-36d7-4f06-b7d2-bcbcef2cae75",
   "metadata": {
    "id": "ab0d4b33-36d7-4f06-b7d2-bcbcef2cae75"
   },
   "source": [
    "<h2 style=\"font-size: 24px; font-weight: bold;\">Feature Importance</h2>"
   ]
  },
  {
   "cell_type": "code",
   "execution_count": 57,
   "id": "1084d3b1-5c6e-4459-8342-b6301decdebc",
   "metadata": {
    "id": "1084d3b1-5c6e-4459-8342-b6301decdebc"
   },
   "outputs": [],
   "source": [
    "# checking whether there is difference among feature values across strengths"
   ]
  },
  {
   "cell_type": "code",
   "execution_count": 58,
   "id": "18d36a55-a725-45ee-96fb-f8ab792bc8e9",
   "metadata": {
    "id": "18d36a55-a725-45ee-96fb-f8ab792bc8e9"
   },
   "outputs": [],
   "source": [
    "from scipy import stats"
   ]
  },
  {
   "cell_type": "code",
   "execution_count": 59,
   "id": "ece26517-0fc6-4cf6-ba5f-e8e33d1cb6a3",
   "metadata": {
    "colab": {
     "base_uri": "https://localhost:8080/"
    },
    "id": "ece26517-0fc6-4cf6-ba5f-e8e33d1cb6a3",
    "outputId": "64b958a0-4dee-406f-eb19-37d64b660bdf"
   },
   "outputs": [
    {
     "name": "stdout",
     "output_type": "stream",
     "text": [
      "length\n",
      "ShapiroResult(statistic=0.13346678018569946, pvalue=0.0)\n",
      "ShapiroResult(statistic=0.7921388149261475, pvalue=0.0)\n"
     ]
    },
    {
     "name": "stderr",
     "output_type": "stream",
     "text": [
      "C:\\Users\\gulma\\anaconda3\\Lib\\site-packages\\scipy\\stats\\_morestats.py:1882: UserWarning: p-value may not be accurate for N > 5000.\n",
      "  warnings.warn(\"p-value may not be accurate for N > 5000.\")\n"
     ]
    },
    {
     "name": "stdout",
     "output_type": "stream",
     "text": [
      "ShapiroResult(statistic=0.36070960760116577, pvalue=0.0)\n",
      "\n",
      "\n",
      "lowercase_freq\n",
      "ShapiroResult(statistic=0.7327057123184204, pvalue=0.0)\n",
      "ShapiroResult(statistic=0.8984407782554626, pvalue=0.0)\n",
      "ShapiroResult(statistic=0.969139575958252, pvalue=0.0)\n",
      "\n",
      "\n",
      "uppercase_freq\n",
      "ShapiroResult(statistic=0.11311537027359009, pvalue=0.0)\n",
      "ShapiroResult(statistic=0.09483146667480469, pvalue=0.0)\n",
      "ShapiroResult(statistic=0.9332681894302368, pvalue=0.0)\n",
      "\n",
      "\n",
      "digit_freq\n",
      "ShapiroResult(statistic=0.8060114979743958, pvalue=0.0)\n",
      "ShapiroResult(statistic=0.9220196008682251, pvalue=0.0)\n",
      "ShapiroResult(statistic=0.8338689208030701, pvalue=0.0)\n",
      "\n",
      "\n",
      "special_char_freq\n",
      "ShapiroResult(statistic=0.08450573682785034, pvalue=0.0)\n",
      "ShapiroResult(statistic=0.07249462604522705, pvalue=0.0)\n",
      "ShapiroResult(statistic=0.3642738461494446, pvalue=0.0)\n",
      "\n",
      "\n"
     ]
    }
   ],
   "source": [
    "# checking normality of values\n",
    "# hypothesis testing\n",
    "\n",
    "cols = ['length', 'lowercase_freq', 'uppercase_freq',\n",
    "       'digit_freq', 'special_char_freq']\n",
    "for col in cols:\n",
    "    print(col)\n",
    "    print(stats.shapiro(df2[df2[\"strength\"] == 0][col]))\n",
    "    print(stats.shapiro(df2[df2[\"strength\"] == 1][col]))\n",
    "    print(stats.shapiro(df2[df2[\"strength\"] == 2][col]))\n",
    "    print(\"\\n\")"
   ]
  },
  {
   "cell_type": "code",
   "execution_count": 60,
   "id": "cc4f425e-ce6c-478f-b894-8efba83eed1c",
   "metadata": {
    "id": "cc4f425e-ce6c-478f-b894-8efba83eed1c"
   },
   "outputs": [],
   "source": [
    "# data is not normally distributed"
   ]
  },
  {
   "cell_type": "code",
   "execution_count": 61,
   "id": "458299f0-c675-4cfc-a243-b4ec9851dd4b",
   "metadata": {
    "colab": {
     "base_uri": "https://localhost:8080/"
    },
    "id": "458299f0-c675-4cfc-a243-b4ec9851dd4b",
    "outputId": "c23baeea-5f2a-4069-c332-08bb9e477bfb"
   },
   "outputs": [
    {
     "name": "stdout",
     "output_type": "stream",
     "text": [
      "length\n",
      "LeveneResult(statistic=9919.228199329698, pvalue=0.0)\n",
      "\n",
      "\n",
      "lowercase_freq\n",
      "LeveneResult(statistic=5156.779735284323, pvalue=0.0)\n",
      "\n",
      "\n",
      "uppercase_freq\n",
      "LeveneResult(statistic=107150.60296328217, pvalue=0.0)\n",
      "\n",
      "\n",
      "digit_freq\n",
      "LeveneResult(statistic=14560.071343820744, pvalue=0.0)\n",
      "\n",
      "\n",
      "special_char_freq\n",
      "LeveneResult(statistic=6406.998105446732, pvalue=0.0)\n",
      "\n",
      "\n"
     ]
    }
   ],
   "source": [
    "# checking homogeneity of variances - Levene's test\n",
    "\n",
    "for col in cols:\n",
    "    print(col)\n",
    "    print(stats.levene(df2[df2[\"strength\"] == 0][col],\n",
    "                       df2[df2[\"strength\"] == 1][col],\n",
    "                       df2[df2[\"strength\"] == 2][col]))\n",
    "    print(\"\\n\")"
   ]
  },
  {
   "cell_type": "code",
   "execution_count": 62,
   "id": "f784484b-3283-4409-b81b-29cd3175628e",
   "metadata": {
    "id": "f784484b-3283-4409-b81b-29cd3175628e"
   },
   "outputs": [],
   "source": [
    "# variances are not homogenous - p values is less than 0.05"
   ]
  },
  {
   "cell_type": "code",
   "execution_count": 63,
   "id": "JhufxpISCi0k",
   "metadata": {
    "colab": {
     "base_uri": "https://localhost:8080/"
    },
    "id": "JhufxpISCi0k",
    "outputId": "4ce3447c-46ba-41b6-d23c-9df5e06c40d6"
   },
   "outputs": [
    {
     "name": "stdout",
     "output_type": "stream",
     "text": [
      "Requirement already satisfied: pingouin in c:\\users\\gulma\\anaconda3\\lib\\site-packages (0.5.5)\n",
      "Requirement already satisfied: matplotlib in c:\\users\\gulma\\anaconda3\\lib\\site-packages (from pingouin) (3.8.0)\n",
      "Requirement already satisfied: numpy in c:\\users\\gulma\\anaconda3\\lib\\site-packages (from pingouin) (1.26.4)\n",
      "Requirement already satisfied: pandas>=1.5 in c:\\users\\gulma\\anaconda3\\lib\\site-packages (from pingouin) (2.1.4)\n",
      "Requirement already satisfied: pandas-flavor in c:\\users\\gulma\\anaconda3\\lib\\site-packages (from pingouin) (0.6.0)\n",
      "Requirement already satisfied: scikit-learn>=1.2 in c:\\users\\gulma\\anaconda3\\lib\\site-packages (from pingouin) (1.5.2)\n",
      "Requirement already satisfied: scipy in c:\\users\\gulma\\anaconda3\\lib\\site-packages (from pingouin) (1.11.4)\n",
      "Requirement already satisfied: seaborn in c:\\users\\gulma\\anaconda3\\lib\\site-packages (from pingouin) (0.13.2)\n",
      "Requirement already satisfied: statsmodels in c:\\users\\gulma\\anaconda3\\lib\\site-packages (from pingouin) (0.14.0)\n",
      "Requirement already satisfied: tabulate in c:\\users\\gulma\\anaconda3\\lib\\site-packages (from pingouin) (0.9.0)\n",
      "Requirement already satisfied: python-dateutil>=2.8.2 in c:\\users\\gulma\\anaconda3\\lib\\site-packages (from pandas>=1.5->pingouin) (2.8.2)\n",
      "Requirement already satisfied: pytz>=2020.1 in c:\\users\\gulma\\anaconda3\\lib\\site-packages (from pandas>=1.5->pingouin) (2023.3.post1)\n",
      "Requirement already satisfied: tzdata>=2022.1 in c:\\users\\gulma\\anaconda3\\lib\\site-packages (from pandas>=1.5->pingouin) (2023.3)\n",
      "Requirement already satisfied: joblib>=1.2.0 in c:\\users\\gulma\\anaconda3\\lib\\site-packages (from scikit-learn>=1.2->pingouin) (1.2.0)\n",
      "Requirement already satisfied: threadpoolctl>=3.1.0 in c:\\users\\gulma\\anaconda3\\lib\\site-packages (from scikit-learn>=1.2->pingouin) (3.5.0)\n",
      "Requirement already satisfied: contourpy>=1.0.1 in c:\\users\\gulma\\anaconda3\\lib\\site-packages (from matplotlib->pingouin) (1.2.0)\n",
      "Requirement already satisfied: cycler>=0.10 in c:\\users\\gulma\\anaconda3\\lib\\site-packages (from matplotlib->pingouin) (0.11.0)\n",
      "Requirement already satisfied: fonttools>=4.22.0 in c:\\users\\gulma\\anaconda3\\lib\\site-packages (from matplotlib->pingouin) (4.25.0)\n",
      "Requirement already satisfied: kiwisolver>=1.0.1 in c:\\users\\gulma\\anaconda3\\lib\\site-packages (from matplotlib->pingouin) (1.4.4)\n",
      "Requirement already satisfied: packaging>=20.0 in c:\\users\\gulma\\anaconda3\\lib\\site-packages (from matplotlib->pingouin) (23.1)\n",
      "Requirement already satisfied: pillow>=6.2.0 in c:\\users\\gulma\\anaconda3\\lib\\site-packages (from matplotlib->pingouin) (10.2.0)\n",
      "Requirement already satisfied: pyparsing>=2.3.1 in c:\\users\\gulma\\anaconda3\\lib\\site-packages (from matplotlib->pingouin) (3.0.9)\n",
      "Requirement already satisfied: xarray in c:\\users\\gulma\\anaconda3\\lib\\site-packages (from pandas-flavor->pingouin) (2023.6.0)\n",
      "Requirement already satisfied: patsy>=0.5.2 in c:\\users\\gulma\\anaconda3\\lib\\site-packages (from statsmodels->pingouin) (0.5.3)\n",
      "Requirement already satisfied: six in c:\\users\\gulma\\anaconda3\\lib\\site-packages (from patsy>=0.5.2->statsmodels->pingouin) (1.16.0)\n"
     ]
    }
   ],
   "source": [
    "!pip install pingouin"
   ]
  },
  {
   "cell_type": "code",
   "execution_count": 64,
   "id": "sVpEf8QWaYM8",
   "metadata": {
    "colab": {
     "base_uri": "https://localhost:8080/"
    },
    "id": "sVpEf8QWaYM8",
    "outputId": "70fb2b95-1d17-4c6e-9b9b-b9fae795902d"
   },
   "outputs": [
    {
     "data": {
      "text/plain": [
       "['length',\n",
       " 'lowercase_freq',\n",
       " 'uppercase_freq',\n",
       " 'digit_freq',\n",
       " 'special_char_freq']"
      ]
     },
     "execution_count": 64,
     "metadata": {},
     "output_type": "execute_result"
    }
   ],
   "source": [
    "cols"
   ]
  },
  {
   "cell_type": "code",
   "execution_count": 65,
   "id": "50bb8adf-790c-433b-87c6-c146ec7bea00",
   "metadata": {
    "colab": {
     "base_uri": "https://localhost:8080/"
    },
    "id": "50bb8adf-790c-433b-87c6-c146ec7bea00",
    "outputId": "e8d79f24-63f2-4f3c-cf33-1b944a73addc"
   },
   "outputs": [
    {
     "name": "stdout",
     "output_type": "stream",
     "text": [
      "length\n",
      "     Source  ddof1          ddof2             F  p-unc       np2\n",
      "0  strength      2  143774.287227  607457.28158    0.0  0.717237\n",
      "Reject the null hypothesis: at least one group mean is different.\n",
      "\n",
      "\n",
      "lowercase_freq\n",
      "     Source  ddof1          ddof2             F  p-unc       np2\n",
      "0  strength      2  168414.709629  68577.943741    0.0  0.119572\n",
      "Reject the null hypothesis: at least one group mean is different.\n",
      "\n",
      "\n",
      "uppercase_freq\n",
      "     Source  ddof1         ddof2              F  p-unc       np2\n",
      "0  strength      2  128975.59056  139478.831643    0.0  0.590248\n",
      "Reject the null hypothesis: at least one group mean is different.\n",
      "\n",
      "\n",
      "digit_freq\n",
      "     Source  ddof1          ddof2             F  p-unc       np2\n",
      "0  strength      2  185120.389544  52269.500074    0.0  0.082965\n",
      "Reject the null hypothesis: at least one group mean is different.\n",
      "\n",
      "\n",
      "special_char_freq\n",
      "     Source  ddof1          ddof2            F  p-unc      np2\n",
      "0  strength      2  128091.817183  2930.680474    0.0  0.01878\n",
      "Reject the null hypothesis: at least one group mean is different.\n",
      "\n",
      "\n"
     ]
    }
   ],
   "source": [
    "# checking strength differences by Welch's ANOVA\n",
    "\n",
    "import pingouin as pg\n",
    "for col in cols:\n",
    "    print(col)\n",
    "    welch_anova = pg.welch_anova(dv = col, between = \"strength\", data = df2)\n",
    "    print(welch_anova)\n",
    "    if welch_anova['p-unc'][0] < 0.05:\n",
    "        print(\"Reject the null hypothesis: at least one group mean is different.\")\n",
    "    print(\"\\n\")"
   ]
  },
  {
   "cell_type": "code",
   "execution_count": 66,
   "id": "8f1b6099-3fe0-45c9-a11d-a374f6270caf",
   "metadata": {
    "id": "8f1b6099-3fe0-45c9-a11d-a374f6270caf"
   },
   "outputs": [],
   "source": [
    "# all features are significant"
   ]
  },
  {
   "cell_type": "code",
   "execution_count": 67,
   "id": "4949eb31-6df8-4802-9296-40ff978361cc",
   "metadata": {
    "colab": {
     "base_uri": "https://localhost:8080/"
    },
    "id": "4949eb31-6df8-4802-9296-40ff978361cc",
    "outputId": "96e3f2c8-4db8-42c0-f52c-9a208d5f2481"
   },
   "outputs": [
    {
     "name": "stdout",
     "output_type": "stream",
     "text": [
      "Requirement already satisfied: scikit_posthocs in c:\\users\\gulma\\anaconda3\\lib\\site-packages (0.10.0)\n",
      "Requirement already satisfied: numpy in c:\\users\\gulma\\anaconda3\\lib\\site-packages (from scikit_posthocs) (1.26.4)\n",
      "Requirement already satisfied: scipy>=1.9.0 in c:\\users\\gulma\\anaconda3\\lib\\site-packages (from scikit_posthocs) (1.11.4)\n",
      "Requirement already satisfied: statsmodels in c:\\users\\gulma\\anaconda3\\lib\\site-packages (from scikit_posthocs) (0.14.0)\n",
      "Requirement already satisfied: pandas>=0.20.0 in c:\\users\\gulma\\anaconda3\\lib\\site-packages (from scikit_posthocs) (2.1.4)\n",
      "Requirement already satisfied: seaborn in c:\\users\\gulma\\anaconda3\\lib\\site-packages (from scikit_posthocs) (0.13.2)\n",
      "Requirement already satisfied: matplotlib in c:\\users\\gulma\\anaconda3\\lib\\site-packages (from scikit_posthocs) (3.8.0)\n",
      "Requirement already satisfied: python-dateutil>=2.8.2 in c:\\users\\gulma\\anaconda3\\lib\\site-packages (from pandas>=0.20.0->scikit_posthocs) (2.8.2)\n",
      "Requirement already satisfied: pytz>=2020.1 in c:\\users\\gulma\\anaconda3\\lib\\site-packages (from pandas>=0.20.0->scikit_posthocs) (2023.3.post1)\n",
      "Requirement already satisfied: tzdata>=2022.1 in c:\\users\\gulma\\anaconda3\\lib\\site-packages (from pandas>=0.20.0->scikit_posthocs) (2023.3)\n",
      "Requirement already satisfied: contourpy>=1.0.1 in c:\\users\\gulma\\anaconda3\\lib\\site-packages (from matplotlib->scikit_posthocs) (1.2.0)\n",
      "Requirement already satisfied: cycler>=0.10 in c:\\users\\gulma\\anaconda3\\lib\\site-packages (from matplotlib->scikit_posthocs) (0.11.0)\n",
      "Requirement already satisfied: fonttools>=4.22.0 in c:\\users\\gulma\\anaconda3\\lib\\site-packages (from matplotlib->scikit_posthocs) (4.25.0)\n",
      "Requirement already satisfied: kiwisolver>=1.0.1 in c:\\users\\gulma\\anaconda3\\lib\\site-packages (from matplotlib->scikit_posthocs) (1.4.4)\n",
      "Requirement already satisfied: packaging>=20.0 in c:\\users\\gulma\\anaconda3\\lib\\site-packages (from matplotlib->scikit_posthocs) (23.1)\n",
      "Requirement already satisfied: pillow>=6.2.0 in c:\\users\\gulma\\anaconda3\\lib\\site-packages (from matplotlib->scikit_posthocs) (10.2.0)\n",
      "Requirement already satisfied: pyparsing>=2.3.1 in c:\\users\\gulma\\anaconda3\\lib\\site-packages (from matplotlib->scikit_posthocs) (3.0.9)\n",
      "Requirement already satisfied: patsy>=0.5.2 in c:\\users\\gulma\\anaconda3\\lib\\site-packages (from statsmodels->scikit_posthocs) (0.5.3)\n",
      "Requirement already satisfied: six in c:\\users\\gulma\\anaconda3\\lib\\site-packages (from patsy>=0.5.2->statsmodels->scikit_posthocs) (1.16.0)\n",
      "Note: you may need to restart the kernel to use updated packages.\n"
     ]
    }
   ],
   "source": [
    "pip install scikit_posthocs"
   ]
  },
  {
   "cell_type": "code",
   "execution_count": 68,
   "id": "b1e6390a-b990-45db-ae72-f120a77c4019",
   "metadata": {
    "colab": {
     "base_uri": "https://localhost:8080/"
    },
    "id": "b1e6390a-b990-45db-ae72-f120a77c4019",
    "outputId": "1a74c861-0e75-4fc5-a29e-d40dc9d30bfc"
   },
   "outputs": [
    {
     "name": "stdout",
     "output_type": "stream",
     "text": [
      "length\n",
      "     1    2    0\n",
      "1  1.0  0.0  0.0\n",
      "2  0.0  1.0  0.0\n",
      "0  0.0  0.0  1.0\n",
      "\n",
      "\n",
      "lowercase_freq\n",
      "     1    2    0\n",
      "1  1.0  0.0  0.0\n",
      "2  0.0  1.0  0.0\n",
      "0  0.0  0.0  1.0\n",
      "\n",
      "\n",
      "uppercase_freq\n",
      "     1    2    0\n",
      "1  1.0  0.0  0.0\n",
      "2  0.0  1.0  0.0\n",
      "0  0.0  0.0  1.0\n",
      "\n",
      "\n",
      "digit_freq\n",
      "     1    2    0\n",
      "1  1.0  0.0  0.0\n",
      "2  0.0  1.0  0.0\n",
      "0  0.0  0.0  1.0\n",
      "\n",
      "\n",
      "special_char_freq\n",
      "     1    2    0\n",
      "1  1.0  0.0  0.0\n",
      "2  0.0  1.0  0.0\n",
      "0  0.0  0.0  1.0\n",
      "\n",
      "\n"
     ]
    }
   ],
   "source": [
    "from scikit_posthocs import posthoc_tamhane\n",
    "\n",
    "for col in cols:\n",
    "    print(col)\n",
    "    print(posthoc_tamhane(df2, val_col = col, group_col = \"strength\"))\n",
    "    print(\"\\n\")"
   ]
  },
  {
   "cell_type": "markdown",
   "id": "PX61KwaaBk4w",
   "metadata": {
    "id": "PX61KwaaBk4w"
   },
   "source": [
    "<span style=\"font-size: 24px; font-weight: bold;\">Testing without NLP</span>"
   ]
  },
  {
   "cell_type": "code",
   "execution_count": 69,
   "id": "E4FHWNgmBrkk",
   "metadata": {
    "id": "E4FHWNgmBrkk"
   },
   "outputs": [],
   "source": [
    "from sklearn.model_selection import train_test_split\n",
    "X_train, X_test, Y_train, Y_test = train_test_split(df2.drop([\"strength\", \"password\"], axis = 1), df2[\"strength\"], train_size=0.8)"
   ]
  },
  {
   "cell_type": "code",
   "execution_count": 70,
   "id": "c93cfb37",
   "metadata": {},
   "outputs": [
    {
     "data": {
      "text/plain": [
       "password              object\n",
       "strength               int32\n",
       "length                 int64\n",
       "lowercase_freq       float64\n",
       "uppercase_freq       float64\n",
       "digit_freq           float64\n",
       "special_char_freq    float64\n",
       "dtype: object"
      ]
     },
     "execution_count": 70,
     "metadata": {},
     "output_type": "execute_result"
    }
   ],
   "source": [
    "df2.dtypes"
   ]
  },
  {
   "cell_type": "code",
   "execution_count": 69,
   "id": "d946db96",
   "metadata": {},
   "outputs": [
    {
     "name": "stdout",
     "output_type": "stream",
     "text": [
      "                   strength    length  lowercase_freq  uppercase_freq  \\\n",
      "strength           1.000000  0.810732       -0.321943        0.569289   \n",
      "length             0.810732  1.000000       -0.278924        0.580268   \n",
      "lowercase_freq    -0.321943 -0.278924        1.000000       -0.480536   \n",
      "uppercase_freq     0.569289  0.580268       -0.480536        1.000000   \n",
      "digit_freq        -0.093527 -0.159996       -0.729928       -0.235774   \n",
      "special_char_freq  0.089109  0.160344       -0.089906       -0.006533   \n",
      "\n",
      "                   digit_freq  special_char_freq  \n",
      "strength            -0.093527           0.089109  \n",
      "length              -0.159996           0.160344  \n",
      "lowercase_freq      -0.729928          -0.089906  \n",
      "uppercase_freq      -0.235774          -0.006533  \n",
      "digit_freq           1.000000          -0.036697  \n",
      "special_char_freq   -0.036697           1.000000  \n"
     ]
    }
   ],
   "source": [
    "numeric_df = df2.select_dtypes(include=[np.number])\n",
    "correlation_matrix = numeric_df.corr()\n",
    "print(correlation_matrix)"
   ]
  },
  {
   "cell_type": "code",
   "execution_count": 70,
   "id": "MKWgNrydD83L",
   "metadata": {
    "id": "MKWgNrydD83L"
   },
   "outputs": [
    {
     "name": "stderr",
     "output_type": "stream",
     "text": [
      "C:\\Users\\gulma\\anaconda3\\Lib\\site-packages\\sklearn\\linear_model\\_sag.py:350: ConvergenceWarning: The max_iter was reached which means the coef_ did not converge\n",
      "  warnings.warn(\n"
     ]
    },
    {
     "name": "stdout",
     "output_type": "stream",
     "text": [
      "LogisticRegression(C=0.1, class_weight='balanced', multi_class='multinomial',\n",
      "                   random_state=42, solver='sag')\n",
      "\n",
      "Classification Report\n",
      "              precision    recall  f1-score   support\n",
      "\n",
      "           0       1.00      1.00      1.00     17838\n",
      "           1       1.00      0.99      1.00     99443\n",
      "           2       0.96      1.00      0.98     16625\n",
      "\n",
      "    accuracy                           0.99    133906\n",
      "   macro avg       0.99      1.00      0.99    133906\n",
      "weighted avg       0.99      0.99      0.99    133906\n",
      "\n",
      "\n",
      "Confusion Matrix\n",
      "[[17753    51    34]\n",
      " [    0 98749   694]\n",
      " [    0     0 16625]]\n",
      "\n",
      "RandomForestClassifier(class_weight='balanced', max_depth=10,\n",
      "                       min_samples_split=5, n_estimators=200, random_state=42)\n",
      "\n",
      "Classification Report\n",
      "              precision    recall  f1-score   support\n",
      "\n",
      "           0       0.99      1.00      1.00     17838\n",
      "           1       1.00      1.00      1.00     99443\n",
      "           2       1.00      1.00      1.00     16625\n",
      "\n",
      "    accuracy                           1.00    133906\n",
      "   macro avg       1.00      1.00      1.00    133906\n",
      "weighted avg       1.00      1.00      1.00    133906\n",
      "\n",
      "\n",
      "Confusion Matrix\n",
      "[[17829     7     2]\n",
      " [  132 99308     3]\n",
      " [    0     0 16625]]\n",
      "\n",
      "GradientBoostingClassifier(learning_rate=0.05, max_depth=5, n_estimators=200,\n",
      "                           random_state=42)\n",
      "\n",
      "Classification Report\n",
      "              precision    recall  f1-score   support\n",
      "\n",
      "           0       1.00      1.00      1.00     17838\n",
      "           1       1.00      1.00      1.00     99443\n",
      "           2       1.00      1.00      1.00     16625\n",
      "\n",
      "    accuracy                           1.00    133906\n",
      "   macro avg       1.00      1.00      1.00    133906\n",
      "weighted avg       1.00      1.00      1.00    133906\n",
      "\n",
      "\n",
      "Confusion Matrix\n",
      "[[17791    45     2]\n",
      " [    2 99438     3]\n",
      " [    0     3 16622]]\n",
      "\n"
     ]
    }
   ],
   "source": [
    "import re\n",
    "\n",
    "models = [LogisticRegression(penalty = \"l2\", C = 0.1, class_weight = \"balanced\", solver = \"sag\", multi_class = \"multinomial\", random_state = 42),\n",
    "          RandomForestClassifier(n_estimators=200, max_depth=10, min_samples_split=5, class_weight='balanced', random_state=42),\n",
    "          GradientBoostingClassifier(n_estimators=200, learning_rate=0.05, max_depth=5, random_state=42)]\n",
    "\n",
    "\n",
    "saved_models = {}  # Dictionary to store each trained model\n",
    "\n",
    "def printMetrics(y, y_pred, name, model):\n",
    "    class_report = classification_report(y, y_pred)\n",
    "    conf_matrix = confusion_matrix(y, y_pred)\n",
    "\n",
    "    model_name = re.search('^[^(]+', name).group(0)\n",
    "    saved_models[model_name] = model  # Save the trained model\n",
    "\n",
    "    print(name)\n",
    "    print()\n",
    "    print('Classification Report')\n",
    "    print(class_report)\n",
    "    print()\n",
    "    print('Confusion Matrix')\n",
    "    print(conf_matrix)\n",
    "    print()\n",
    "\n",
    "# Train each model and evaluate metrics\n",
    "for model in models:\n",
    "    model.fit(X_train, Y_train)\n",
    "    y_pred = model.predict(X_test)\n",
    "    printMetrics(Y_test, y_pred, str(model), model)"
   ]
  },
  {
   "cell_type": "markdown",
   "id": "f02d9a6d-8f6e-4840-9b34-3dbaf84a2bf3",
   "metadata": {
    "id": "f02d9a6d-8f6e-4840-9b34-3dbaf84a2bf3"
   },
   "source": [
    "<span style=\"font-size: 24px; font-weight: bold;\">Apply NLP</span>"
   ]
  },
  {
   "cell_type": "code",
   "execution_count": null,
   "id": "120e6f5b-1775-49d4-80fb-7c476d09b488",
   "metadata": {
    "id": "120e6f5b-1775-49d4-80fb-7c476d09b488"
   },
   "outputs": [],
   "source": [
    "# from sklearn.feature_extraction.text import TfidfVectorizer"
   ]
  },
  {
   "cell_type": "code",
   "execution_count": null,
   "id": "9f168cf1-c95d-4301-9e03-f98822a5efe3",
   "metadata": {
    "id": "9f168cf1-c95d-4301-9e03-f98822a5efe3"
   },
   "outputs": [],
   "source": [
    "# vectorizer = TfidfVectorizer(analyzer = \"char\", lowercase = False)"
   ]
  },
  {
   "cell_type": "code",
   "execution_count": null,
   "id": "0bccf24c-af96-4560-aed6-34b41e76c4b1",
   "metadata": {
    "id": "0bccf24c-af96-4560-aed6-34b41e76c4b1"
   },
   "outputs": [],
   "source": [
    "# vectorized_Xtrain = vectorizer.fit_transform(X_train[\"password\"])"
   ]
  },
  {
   "cell_type": "code",
   "execution_count": null,
   "id": "e4ffce13-37c1-400f-8669-ca026a8210be",
   "metadata": {
    "id": "e4ffce13-37c1-400f-8669-ca026a8210be"
   },
   "outputs": [],
   "source": [
    "# vectorized_Xtrain.shape"
   ]
  },
  {
   "cell_type": "code",
   "execution_count": null,
   "id": "a6c601fe-5af5-4b85-a236-4803a6a0e8f7",
   "metadata": {
    "id": "a6c601fe-5af5-4b85-a236-4803a6a0e8f7"
   },
   "outputs": [],
   "source": [
    "# X_train.shape"
   ]
  },
  {
   "cell_type": "code",
   "execution_count": null,
   "id": "e8e4b6bd-90a4-46cd-8404-b9287caed69f",
   "metadata": {
    "id": "e8e4b6bd-90a4-46cd-8404-b9287caed69f"
   },
   "outputs": [],
   "source": [
    "# vectorized_Xtrain.toarray().shape"
   ]
  },
  {
   "cell_type": "code",
   "execution_count": null,
   "id": "SF2tMOWQYH8K",
   "metadata": {
    "id": "SF2tMOWQYH8K"
   },
   "outputs": [],
   "source": [
    "# X_test"
   ]
  },
  {
   "cell_type": "code",
   "execution_count": null,
   "id": "haUK6vYmYPlV",
   "metadata": {
    "id": "haUK6vYmYPlV"
   },
   "outputs": [],
   "source": [
    "# vectorized_Xtrain.toarray()"
   ]
  },
  {
   "cell_type": "code",
   "execution_count": null,
   "id": "62298455-ba89-425f-bc55-d59092346a17",
   "metadata": {
    "id": "62298455-ba89-425f-bc55-d59092346a17"
   },
   "outputs": [],
   "source": [
    "# final_Xtrain = np.hstack((X_train.drop(\"password\", axis = 1), vectorized_Xtrain.toarray()))"
   ]
  },
  {
   "cell_type": "code",
   "execution_count": null,
   "id": "05afcdb9-ee6a-41b3-b693-0d84ec826d93",
   "metadata": {
    "id": "05afcdb9-ee6a-41b3-b693-0d84ec826d93"
   },
   "outputs": [],
   "source": [
    "# final_Xtrain.shape"
   ]
  },
  {
   "cell_type": "code",
   "execution_count": null,
   "id": "f1531a7f-cd68-439d-b8e9-330f16ce8fbd",
   "metadata": {
    "id": "f1531a7f-cd68-439d-b8e9-330f16ce8fbd"
   },
   "outputs": [],
   "source": [
    "# vectorized_Xtest = vectorizer.transform(X_test[\"password\"])"
   ]
  },
  {
   "cell_type": "code",
   "execution_count": null,
   "id": "41e54f47-85e7-44ba-ab71-402194a1d3f8",
   "metadata": {
    "id": "41e54f47-85e7-44ba-ab71-402194a1d3f8"
   },
   "outputs": [],
   "source": [
    "# vectorized_Xtest.shape"
   ]
  },
  {
   "cell_type": "code",
   "execution_count": null,
   "id": "3f3f67b6-965b-4b83-82bf-17b30482e048",
   "metadata": {
    "id": "3f3f67b6-965b-4b83-82bf-17b30482e048"
   },
   "outputs": [],
   "source": [
    "# X_test.shape"
   ]
  },
  {
   "cell_type": "code",
   "execution_count": null,
   "id": "c885c156-359c-4e16-bc20-cd6c6f6aa2ad",
   "metadata": {
    "id": "c885c156-359c-4e16-bc20-cd6c6f6aa2ad"
   },
   "outputs": [],
   "source": [
    "# final_Xtest = np.hstack((X_test.drop(\"password\", axis = 1), vectorized_Xtest.toarray()))"
   ]
  },
  {
   "cell_type": "code",
   "execution_count": null,
   "id": "d3bd57e1-1a2c-41d1-81e1-2c2e24b8e7d5",
   "metadata": {
    "id": "d3bd57e1-1a2c-41d1-81e1-2c2e24b8e7d5"
   },
   "outputs": [],
   "source": [
    "# final_Xtest.shape"
   ]
  },
  {
   "cell_type": "markdown",
   "id": "69959a58-4116-41f6-84f7-a577fc6d3530",
   "metadata": {
    "id": "69959a58-4116-41f6-84f7-a577fc6d3530"
   },
   "source": [
    "<h2 style=\"font-size: 24px; font-weight: bold;\">Logistic Regression</h2>"
   ]
  },
  {
   "cell_type": "code",
   "execution_count": 71,
   "id": "32c59f34-4761-48ed-ab27-0c4ba8304d54",
   "metadata": {
    "id": "32c59f34-4761-48ed-ab27-0c4ba8304d54"
   },
   "outputs": [],
   "source": [
    "from sklearn.linear_model import LogisticRegression"
   ]
  },
  {
   "cell_type": "code",
   "execution_count": 72,
   "id": "b85a02d5-04ed-462f-bf56-c228f13f42ea",
   "metadata": {
    "id": "b85a02d5-04ed-462f-bf56-c228f13f42ea"
   },
   "outputs": [],
   "source": [
    "model = LogisticRegression(penalty = \"l1\", C = 0.1, class_weight = \"balanced\", multi_class = \"multinomial\", solver = \"saga\")"
   ]
  },
  {
   "cell_type": "code",
   "execution_count": 73,
   "id": "27d1aa9f-2960-4d9f-a084-5ffe2f692cd0",
   "metadata": {
    "colab": {
     "base_uri": "https://localhost:8080/",
     "height": 187
    },
    "id": "27d1aa9f-2960-4d9f-a084-5ffe2f692cd0",
    "outputId": "dab115b7-25c0-4f2f-f423-d7d5c297cfd7"
   },
   "outputs": [
    {
     "name": "stderr",
     "output_type": "stream",
     "text": [
      "C:\\Users\\gulma\\anaconda3\\Lib\\site-packages\\sklearn\\linear_model\\_sag.py:350: ConvergenceWarning: The max_iter was reached which means the coef_ did not converge\n",
      "  warnings.warn(\n"
     ]
    },
    {
     "data": {
      "text/html": [
       "<style>#sk-container-id-1 {color: black;background-color: white;}#sk-container-id-1 pre{padding: 0;}#sk-container-id-1 div.sk-toggleable {background-color: white;}#sk-container-id-1 label.sk-toggleable__label {cursor: pointer;display: block;width: 100%;margin-bottom: 0;padding: 0.3em;box-sizing: border-box;text-align: center;}#sk-container-id-1 label.sk-toggleable__label-arrow:before {content: \"▸\";float: left;margin-right: 0.25em;color: #696969;}#sk-container-id-1 label.sk-toggleable__label-arrow:hover:before {color: black;}#sk-container-id-1 div.sk-estimator:hover label.sk-toggleable__label-arrow:before {color: black;}#sk-container-id-1 div.sk-toggleable__content {max-height: 0;max-width: 0;overflow: hidden;text-align: left;background-color: #f0f8ff;}#sk-container-id-1 div.sk-toggleable__content pre {margin: 0.2em;color: black;border-radius: 0.25em;background-color: #f0f8ff;}#sk-container-id-1 input.sk-toggleable__control:checked~div.sk-toggleable__content {max-height: 200px;max-width: 100%;overflow: auto;}#sk-container-id-1 input.sk-toggleable__control:checked~label.sk-toggleable__label-arrow:before {content: \"▾\";}#sk-container-id-1 div.sk-estimator input.sk-toggleable__control:checked~label.sk-toggleable__label {background-color: #d4ebff;}#sk-container-id-1 div.sk-label input.sk-toggleable__control:checked~label.sk-toggleable__label {background-color: #d4ebff;}#sk-container-id-1 input.sk-hidden--visually {border: 0;clip: rect(1px 1px 1px 1px);clip: rect(1px, 1px, 1px, 1px);height: 1px;margin: -1px;overflow: hidden;padding: 0;position: absolute;width: 1px;}#sk-container-id-1 div.sk-estimator {font-family: monospace;background-color: #f0f8ff;border: 1px dotted black;border-radius: 0.25em;box-sizing: border-box;margin-bottom: 0.5em;}#sk-container-id-1 div.sk-estimator:hover {background-color: #d4ebff;}#sk-container-id-1 div.sk-parallel-item::after {content: \"\";width: 100%;border-bottom: 1px solid gray;flex-grow: 1;}#sk-container-id-1 div.sk-label:hover label.sk-toggleable__label {background-color: #d4ebff;}#sk-container-id-1 div.sk-serial::before {content: \"\";position: absolute;border-left: 1px solid gray;box-sizing: border-box;top: 0;bottom: 0;left: 50%;z-index: 0;}#sk-container-id-1 div.sk-serial {display: flex;flex-direction: column;align-items: center;background-color: white;padding-right: 0.2em;padding-left: 0.2em;position: relative;}#sk-container-id-1 div.sk-item {position: relative;z-index: 1;}#sk-container-id-1 div.sk-parallel {display: flex;align-items: stretch;justify-content: center;background-color: white;position: relative;}#sk-container-id-1 div.sk-item::before, #sk-container-id-1 div.sk-parallel-item::before {content: \"\";position: absolute;border-left: 1px solid gray;box-sizing: border-box;top: 0;bottom: 0;left: 50%;z-index: -1;}#sk-container-id-1 div.sk-parallel-item {display: flex;flex-direction: column;z-index: 1;position: relative;background-color: white;}#sk-container-id-1 div.sk-parallel-item:first-child::after {align-self: flex-end;width: 50%;}#sk-container-id-1 div.sk-parallel-item:last-child::after {align-self: flex-start;width: 50%;}#sk-container-id-1 div.sk-parallel-item:only-child::after {width: 0;}#sk-container-id-1 div.sk-dashed-wrapped {border: 1px dashed gray;margin: 0 0.4em 0.5em 0.4em;box-sizing: border-box;padding-bottom: 0.4em;background-color: white;}#sk-container-id-1 div.sk-label label {font-family: monospace;font-weight: bold;display: inline-block;line-height: 1.2em;}#sk-container-id-1 div.sk-label-container {text-align: center;}#sk-container-id-1 div.sk-container {/* jupyter's `normalize.less` sets `[hidden] { display: none; }` but bootstrap.min.css set `[hidden] { display: none !important; }` so we also need the `!important` here to be able to override the default hidden behavior on the sphinx rendered scikit-learn.org. See: https://github.com/scikit-learn/scikit-learn/issues/21755 */display: inline-block !important;position: relative;}#sk-container-id-1 div.sk-text-repr-fallback {display: none;}</style><div id=\"sk-container-id-1\" class=\"sk-top-container\"><div class=\"sk-text-repr-fallback\"><pre>LogisticRegression(C=0.1, class_weight=&#x27;balanced&#x27;, multi_class=&#x27;multinomial&#x27;,\n",
       "                   penalty=&#x27;l1&#x27;, solver=&#x27;saga&#x27;)</pre><b>In a Jupyter environment, please rerun this cell to show the HTML representation or trust the notebook. <br />On GitHub, the HTML representation is unable to render, please try loading this page with nbviewer.org.</b></div><div class=\"sk-container\" hidden><div class=\"sk-item\"><div class=\"sk-estimator sk-toggleable\"><input class=\"sk-toggleable__control sk-hidden--visually\" id=\"sk-estimator-id-1\" type=\"checkbox\" checked><label for=\"sk-estimator-id-1\" class=\"sk-toggleable__label sk-toggleable__label-arrow\">LogisticRegression</label><div class=\"sk-toggleable__content\"><pre>LogisticRegression(C=0.1, class_weight=&#x27;balanced&#x27;, multi_class=&#x27;multinomial&#x27;,\n",
       "                   penalty=&#x27;l1&#x27;, solver=&#x27;saga&#x27;)</pre></div></div></div></div></div>"
      ],
      "text/plain": [
       "LogisticRegression(C=0.1, class_weight='balanced', multi_class='multinomial',\n",
       "                   penalty='l1', solver='saga')"
      ]
     },
     "execution_count": 73,
     "metadata": {},
     "output_type": "execute_result"
    }
   ],
   "source": [
    "model.fit(X_train, Y_train)"
   ]
  },
  {
   "cell_type": "code",
   "execution_count": 74,
   "id": "7ba8c722-d976-4ac0-91fa-f2706d27a01d",
   "metadata": {
    "id": "7ba8c722-d976-4ac0-91fa-f2706d27a01d"
   },
   "outputs": [],
   "source": [
    "y_pred = model.predict(X_test)"
   ]
  },
  {
   "cell_type": "code",
   "execution_count": 75,
   "id": "6865cc5f-1abb-46c3-a726-1d50c68960c2",
   "metadata": {
    "id": "6865cc5f-1abb-46c3-a726-1d50c68960c2"
   },
   "outputs": [],
   "source": [
    "from sklearn.metrics import classification_report, confusion_matrix"
   ]
  },
  {
   "cell_type": "code",
   "execution_count": 76,
   "id": "08f5f2a7-6ad8-47c0-b533-81bc879e1410",
   "metadata": {
    "colab": {
     "base_uri": "https://localhost:8080/"
    },
    "id": "08f5f2a7-6ad8-47c0-b533-81bc879e1410",
    "outputId": "694582f3-80e5-47ed-d6f8-1ffae57bc0db"
   },
   "outputs": [
    {
     "name": "stdout",
     "output_type": "stream",
     "text": [
      "[[17701    99    38]\n",
      " [    0 98541   902]\n",
      " [    0     3 16622]]\n"
     ]
    }
   ],
   "source": [
    "print(confusion_matrix(Y_test, y_pred))"
   ]
  },
  {
   "cell_type": "code",
   "execution_count": 77,
   "id": "3426ef0c-b2f8-459a-a646-6e60d45689e4",
   "metadata": {
    "colab": {
     "base_uri": "https://localhost:8080/"
    },
    "id": "3426ef0c-b2f8-459a-a646-6e60d45689e4",
    "outputId": "32957639-ac67-492a-a90b-f765bfaa7011"
   },
   "outputs": [
    {
     "name": "stdout",
     "output_type": "stream",
     "text": [
      "              precision    recall  f1-score   support\n",
      "\n",
      "           0       1.00      0.99      1.00     17838\n",
      "           1       1.00      0.99      0.99     99443\n",
      "           2       0.95      1.00      0.97     16625\n",
      "\n",
      "    accuracy                           0.99    133906\n",
      "   macro avg       0.98      0.99      0.99    133906\n",
      "weighted avg       0.99      0.99      0.99    133906\n",
      "\n"
     ]
    }
   ],
   "source": [
    "print(classification_report(Y_test, y_pred))"
   ]
  },
  {
   "cell_type": "code",
   "execution_count": 83,
   "id": "1e6592ec-801f-4175-a507-20b8273c175c",
   "metadata": {
    "id": "1e6592ec-801f-4175-a507-20b8273c175c"
   },
   "outputs": [],
   "source": [
    "# def predict():\n",
    "#     password = input(\"Password: \")\n",
    "#     vectorzed_features = vectorizer.transform([password]).toarray()\n",
    "#     def lowercase_pred(row):\n",
    "#         return len([char for char in row if char.islower()])/len(row)\n",
    "#     def uppercase_pred(row):\n",
    "#         return len([char for char in row if char.isupper()])/len(row)\n",
    "#     def digit_pred(row):\n",
    "#         return len([char for char in row if char.isdigit()])/len(row)\n",
    "#     def special_char_pred(row):\n",
    "#         special_chars = []\n",
    "#         for char in row:\n",
    "#             if not char.isalpha() and not char.isdigit():\n",
    "#                 special_chars.append(char)\n",
    "#         return len(special_chars)/len(row)\n",
    "\n",
    "#     length = len(password)\n",
    "#     lower = lowercase_pred(password)\n",
    "#     upper = uppercase_pred(password)\n",
    "#     digit_freq = digit_pred(password)\n",
    "#     special = special_char_pred(password)\n",
    "#     original_features = np.array([[length, lower, upper, digit_freq, special]])\n",
    "#     passdata = np.hstack((original_features, vectorzed_features))\n",
    "\n",
    "#     result = model.predict(passdata)\n",
    "#     if result == 0 :\n",
    "#         return \"Password is weak\"\n",
    "#     elif result == 1 :\n",
    "#         return \"Password is normal\"\n",
    "#     else:\n",
    "#         return \"password is strong\""
   ]
  },
  {
   "cell_type": "code",
   "execution_count": 84,
   "id": "eb6ace71-d96d-4ef8-bd31-d76bc30e205f",
   "metadata": {
    "id": "eb6ace71-d96d-4ef8-bd31-d76bc30e205f"
   },
   "outputs": [],
   "source": [
    "# predict()"
   ]
  },
  {
   "cell_type": "code",
   "execution_count": 85,
   "id": "ETiv9ZlguEvM",
   "metadata": {
    "id": "ETiv9ZlguEvM"
   },
   "outputs": [],
   "source": [
    "\n",
    "#import re\n",
    "\n",
    "#def predict():\n",
    "    #password = input(\"Password: \")\n",
    "\n",
    "    # Şifrə zəifdir: Kiçik hərflər varsa\n",
    "    #if any(char.islower() for char in password):\n",
    "        #return \"Password is weak\"\n",
    "\n",
    "    # Şifrə zəifdir: Ardıcıl rəqəmlər varsa\n",
    "    #if re.search(r\"(012|123|234|345|456|567|678|789|890)\", password):\n",
    "        #return \"Password is weak\"\n",
    "\n",
    "    # Əgər şərtlərə uyğun deyilsə, vektorlaşdırma və model proqnozlaşdırması davam edir\n",
    "    #vectorized_features = vectorizer.transform([password]).toarray()\n",
    "\n",
    "    #def lowercase_pred(row):\n",
    "       # return len([char for char in row if char.islower()]) / len(row)\n",
    "\n",
    "    #def uppercase_pred(row):\n",
    "       # return len([char for char in row if char.isupper()]) / len(row)\n",
    "\n",
    "    #def digit_pred(row):\n",
    "       # return len([char for char in row if char.isdigit()]) / len(row)\n",
    "\n",
    "    #def special_char_pred(row):\n",
    "     #   special_chars = [char for char in row if not char.isalpha() and not char.isdigit()]\n",
    "      #  return len(special_chars) / len(row)\n",
    "\n",
    "    # Xüsusiyyətləri hesablayırıq\n",
    "    #length = len(password)\n",
    "    #lower = lowercase_pred(password)\n",
    "    #upper = uppercase_pred(password)\n",
    "    #digit_freq = digit_pred(password)\n",
    "    #special = special_char_pred(password)\n",
    "    #original_features = np.array([[length, lower, upper, digit_freq, special]])\n",
    "    #passdata = np.hstack((original_features, vectorized_features))\n",
    "\n",
    "    # Model nəticəni təxmin edir\n",
    "    #result = model.predict(passdata)\n",
    "\n",
    "    #if result == 0:\n",
    "     #   return \"Password is weak\"\n",
    "    #elif result == 1:\n",
    "     #   return \"Password is normal\"\n",
    "    #else:\n",
    "     #   return \"Password is strong\"\n"
   ]
  },
  {
   "cell_type": "code",
   "execution_count": 86,
   "id": "c4497d9d-f7ec-4e92-92c0-441cbc6202b9",
   "metadata": {
    "id": "c4497d9d-f7ec-4e92-92c0-441cbc6202b9"
   },
   "outputs": [],
   "source": [
    "#import pickle"
   ]
  },
  {
   "cell_type": "code",
   "execution_count": 87,
   "id": "f91ee9c1-479b-44b3-acce-ff4b9bd83c13",
   "metadata": {
    "id": "f91ee9c1-479b-44b3-acce-ff4b9bd83c13"
   },
   "outputs": [],
   "source": [
    "#with open(\"vectorizer.pkl\", \"wb\") as vec_file:\n",
    "    #pickle.dump(vectorizer, vec_file)"
   ]
  },
  {
   "cell_type": "code",
   "execution_count": 88,
   "id": "dd03b35f-bd1b-4b16-80c1-1a24e6f30ed2",
   "metadata": {
    "id": "dd03b35f-bd1b-4b16-80c1-1a24e6f30ed2"
   },
   "outputs": [],
   "source": [
    "#with open(\"model.pkl\", \"wb\") as model_file:\n",
    "    #pickle.dump(model, model_file)\n"
   ]
  },
  {
   "cell_type": "markdown",
   "id": "_D0J0D22NZWB",
   "metadata": {
    "id": "_D0J0D22NZWB"
   },
   "source": [
    "<h2><strong>Random Forest</strong></h2>"
   ]
  },
  {
   "cell_type": "code",
   "execution_count": 78,
   "id": "c5c0c070-aca3-4465-8ab0-4202491fa2ba",
   "metadata": {
    "id": "c5c0c070-aca3-4465-8ab0-4202491fa2ba"
   },
   "outputs": [],
   "source": [
    "from sklearn.ensemble import RandomForestClassifier\n",
    "from sklearn.metrics import accuracy_score, classification_report, confusion_matrix\n"
   ]
  },
  {
   "cell_type": "code",
   "execution_count": 79,
   "id": "jZQmFuAeOchS",
   "metadata": {
    "id": "jZQmFuAeOchS"
   },
   "outputs": [],
   "source": [
    "model=RandomForestClassifier(n_estimators=100, random_state=42)"
   ]
  },
  {
   "cell_type": "code",
   "execution_count": 80,
   "id": "vk6p5Z-kO4p6",
   "metadata": {
    "id": "vk6p5Z-kO4p6"
   },
   "outputs": [],
   "source": [
    "Random_forest_class=model.fit(X_train, Y_train)\n"
   ]
  },
  {
   "cell_type": "code",
   "execution_count": 81,
   "id": "1-KPGHADPOSm",
   "metadata": {
    "id": "1-KPGHADPOSm"
   },
   "outputs": [],
   "source": [
    "predict_y=Random_forest_class.predict(X_test)"
   ]
  },
  {
   "cell_type": "code",
   "execution_count": 82,
   "id": "5oF3l5ORPOWY",
   "metadata": {
    "colab": {
     "base_uri": "https://localhost:8080/"
    },
    "id": "5oF3l5ORPOWY",
    "outputId": "37ad7dd8-7c73-4f5f-94e7-f3f7adc0ee38"
   },
   "outputs": [
    {
     "name": "stdout",
     "output_type": "stream",
     "text": [
      "Accuracy: 1.00\n"
     ]
    }
   ],
   "source": [
    "accuracy = accuracy_score(Y_test, predict_y)\n",
    "print(f\"Accuracy: {accuracy:.2f}\")\n"
   ]
  },
  {
   "cell_type": "markdown",
   "id": "GBUmG5y8KPQw",
   "metadata": {
    "id": "GBUmG5y8KPQw"
   },
   "source": [
    "<h2><strong>Catboost</strong></h2>\n"
   ]
  },
  {
   "cell_type": "code",
   "execution_count": 70,
   "id": "fBS9D7BuPOcn",
   "metadata": {
    "colab": {
     "base_uri": "https://localhost:8080/"
    },
    "id": "fBS9D7BuPOcn",
    "outputId": "e0d42d80-310b-4378-90a8-b918dd2c9b22"
   },
   "outputs": [
    {
     "name": "stdout",
     "output_type": "stream",
     "text": [
      "Requirement already satisfied: catboost in c:\\users\\gulma\\anaconda3\\lib\\site-packages (1.2.7)\n",
      "Requirement already satisfied: graphviz in c:\\users\\gulma\\anaconda3\\lib\\site-packages (from catboost) (0.20.3)\n",
      "Requirement already satisfied: matplotlib in c:\\users\\gulma\\anaconda3\\lib\\site-packages (from catboost) (3.8.0)\n",
      "Requirement already satisfied: numpy<2.0,>=1.16.0 in c:\\users\\gulma\\anaconda3\\lib\\site-packages (from catboost) (1.26.4)\n",
      "Requirement already satisfied: pandas>=0.24 in c:\\users\\gulma\\anaconda3\\lib\\site-packages (from catboost) (2.1.4)\n",
      "Requirement already satisfied: scipy in c:\\users\\gulma\\anaconda3\\lib\\site-packages (from catboost) (1.11.4)\n",
      "Requirement already satisfied: plotly in c:\\users\\gulma\\anaconda3\\lib\\site-packages (from catboost) (5.9.0)\n",
      "Requirement already satisfied: six in c:\\users\\gulma\\anaconda3\\lib\\site-packages (from catboost) (1.16.0)\n",
      "Requirement already satisfied: python-dateutil>=2.8.2 in c:\\users\\gulma\\anaconda3\\lib\\site-packages (from pandas>=0.24->catboost) (2.8.2)\n",
      "Requirement already satisfied: pytz>=2020.1 in c:\\users\\gulma\\anaconda3\\lib\\site-packages (from pandas>=0.24->catboost) (2023.3.post1)\n",
      "Requirement already satisfied: tzdata>=2022.1 in c:\\users\\gulma\\anaconda3\\lib\\site-packages (from pandas>=0.24->catboost) (2023.3)\n",
      "Requirement already satisfied: contourpy>=1.0.1 in c:\\users\\gulma\\anaconda3\\lib\\site-packages (from matplotlib->catboost) (1.2.0)\n",
      "Requirement already satisfied: cycler>=0.10 in c:\\users\\gulma\\anaconda3\\lib\\site-packages (from matplotlib->catboost) (0.11.0)\n",
      "Requirement already satisfied: fonttools>=4.22.0 in c:\\users\\gulma\\anaconda3\\lib\\site-packages (from matplotlib->catboost) (4.25.0)\n",
      "Requirement already satisfied: kiwisolver>=1.0.1 in c:\\users\\gulma\\anaconda3\\lib\\site-packages (from matplotlib->catboost) (1.4.4)\n",
      "Requirement already satisfied: packaging>=20.0 in c:\\users\\gulma\\anaconda3\\lib\\site-packages (from matplotlib->catboost) (23.1)\n",
      "Requirement already satisfied: pillow>=6.2.0 in c:\\users\\gulma\\anaconda3\\lib\\site-packages (from matplotlib->catboost) (10.2.0)\n",
      "Requirement already satisfied: pyparsing>=2.3.1 in c:\\users\\gulma\\anaconda3\\lib\\site-packages (from matplotlib->catboost) (3.0.9)\n",
      "Requirement already satisfied: tenacity>=6.2.0 in c:\\users\\gulma\\anaconda3\\lib\\site-packages (from plotly->catboost) (8.2.2)\n"
     ]
    }
   ],
   "source": [
    "!pip install catboost\n"
   ]
  },
  {
   "cell_type": "code",
   "execution_count": 71,
   "id": "XKJc5GTGPOxu",
   "metadata": {
    "id": "XKJc5GTGPOxu"
   },
   "outputs": [],
   "source": [
    "from catboost import CatBoostClassifier\n"
   ]
  },
  {
   "cell_type": "code",
   "execution_count": 72,
   "id": "zU8P6nnHO5kd",
   "metadata": {
    "id": "zU8P6nnHO5kd"
   },
   "outputs": [],
   "source": [
    "catboost_clf=CatBoostClassifier(iterations=100, learning_rate=0.1, depth=6, loss_function='MultiClass')\n"
   ]
  },
  {
   "cell_type": "code",
   "execution_count": 73,
   "id": "Yj3Qjd0-O5hM",
   "metadata": {
    "colab": {
     "base_uri": "https://localhost:8080/"
    },
    "id": "Yj3Qjd0-O5hM",
    "outputId": "48ca7a34-12fd-414f-bcf3-629cea880e15"
   },
   "outputs": [
    {
     "name": "stdout",
     "output_type": "stream",
     "text": [
      "0:\tlearn: 0.9092368\ttotal: 298ms\tremaining: 29.5s\n",
      "1:\tlearn: 0.7689255\ttotal: 402ms\tremaining: 19.7s\n",
      "2:\tlearn: 0.6593225\ttotal: 501ms\tremaining: 16.2s\n",
      "3:\tlearn: 0.5710138\ttotal: 588ms\tremaining: 14.1s\n",
      "4:\tlearn: 0.4980927\ttotal: 693ms\tremaining: 13.2s\n",
      "5:\tlearn: 0.4369571\ttotal: 811ms\tremaining: 12.7s\n",
      "6:\tlearn: 0.3850841\ttotal: 952ms\tremaining: 12.6s\n",
      "7:\tlearn: 0.3406392\ttotal: 1.1s\tremaining: 12.7s\n",
      "8:\tlearn: 0.3022973\ttotal: 1.25s\tremaining: 12.7s\n",
      "9:\tlearn: 0.2689161\ttotal: 1.41s\tremaining: 12.7s\n",
      "10:\tlearn: 0.2397887\ttotal: 1.58s\tremaining: 12.8s\n",
      "11:\tlearn: 0.2142149\ttotal: 1.77s\tremaining: 13s\n",
      "12:\tlearn: 0.1917024\ttotal: 1.95s\tremaining: 13.1s\n",
      "13:\tlearn: 0.1717973\ttotal: 2.14s\tremaining: 13.1s\n",
      "14:\tlearn: 0.1541598\ttotal: 2.29s\tremaining: 13s\n",
      "15:\tlearn: 0.1385008\ttotal: 2.46s\tremaining: 12.9s\n",
      "16:\tlearn: 0.1245582\ttotal: 2.63s\tremaining: 12.9s\n",
      "17:\tlearn: 0.1121350\ttotal: 2.82s\tremaining: 12.8s\n",
      "18:\tlearn: 0.1010357\ttotal: 3s\tremaining: 12.8s\n",
      "19:\tlearn: 0.0910716\ttotal: 3.18s\tremaining: 12.7s\n",
      "20:\tlearn: 0.0821615\ttotal: 3.35s\tremaining: 12.6s\n",
      "21:\tlearn: 0.0741721\ttotal: 3.53s\tremaining: 12.5s\n",
      "22:\tlearn: 0.0669879\ttotal: 3.7s\tremaining: 12.4s\n",
      "23:\tlearn: 0.0605584\ttotal: 3.85s\tremaining: 12.2s\n",
      "24:\tlearn: 0.0547922\ttotal: 4s\tremaining: 12s\n",
      "25:\tlearn: 0.0495761\ttotal: 4.16s\tremaining: 11.8s\n",
      "26:\tlearn: 0.0448789\ttotal: 4.36s\tremaining: 11.8s\n",
      "27:\tlearn: 0.0406380\ttotal: 4.55s\tremaining: 11.7s\n",
      "28:\tlearn: 0.0368341\ttotal: 4.73s\tremaining: 11.6s\n",
      "29:\tlearn: 0.0334106\ttotal: 4.88s\tremaining: 11.4s\n",
      "30:\tlearn: 0.0303283\ttotal: 5.04s\tremaining: 11.2s\n",
      "31:\tlearn: 0.0275326\ttotal: 5.19s\tremaining: 11s\n",
      "32:\tlearn: 0.0250295\ttotal: 5.35s\tremaining: 10.9s\n",
      "33:\tlearn: 0.0227552\ttotal: 5.51s\tremaining: 10.7s\n",
      "34:\tlearn: 0.0207045\ttotal: 5.7s\tremaining: 10.6s\n",
      "35:\tlearn: 0.0188521\ttotal: 5.85s\tremaining: 10.4s\n",
      "36:\tlearn: 0.0171809\ttotal: 6.01s\tremaining: 10.2s\n",
      "37:\tlearn: 0.0156672\ttotal: 6.16s\tremaining: 10.1s\n",
      "38:\tlearn: 0.0142998\ttotal: 6.35s\tremaining: 9.93s\n",
      "39:\tlearn: 0.0130676\ttotal: 6.49s\tremaining: 9.73s\n",
      "40:\tlearn: 0.0119660\ttotal: 6.66s\tremaining: 9.58s\n",
      "41:\tlearn: 0.0109727\ttotal: 6.83s\tremaining: 9.43s\n",
      "42:\tlearn: 0.0100689\ttotal: 6.99s\tremaining: 9.26s\n",
      "43:\tlearn: 0.0092428\ttotal: 7.15s\tremaining: 9.1s\n",
      "44:\tlearn: 0.0085037\ttotal: 7.31s\tremaining: 8.94s\n",
      "45:\tlearn: 0.0078231\ttotal: 7.46s\tremaining: 8.75s\n",
      "46:\tlearn: 0.0072253\ttotal: 7.65s\tremaining: 8.63s\n",
      "47:\tlearn: 0.0066881\ttotal: 7.8s\tremaining: 8.45s\n",
      "48:\tlearn: 0.0061884\ttotal: 7.95s\tremaining: 8.28s\n",
      "49:\tlearn: 0.0057301\ttotal: 8.09s\tremaining: 8.09s\n",
      "50:\tlearn: 0.0053274\ttotal: 8.24s\tremaining: 7.92s\n",
      "51:\tlearn: 0.0049747\ttotal: 8.4s\tremaining: 7.76s\n",
      "52:\tlearn: 0.0046334\ttotal: 8.57s\tremaining: 7.6s\n",
      "53:\tlearn: 0.0043258\ttotal: 8.76s\tremaining: 7.47s\n",
      "54:\tlearn: 0.0040682\ttotal: 8.95s\tremaining: 7.32s\n",
      "55:\tlearn: 0.0038296\ttotal: 9.19s\tremaining: 7.22s\n",
      "56:\tlearn: 0.0036012\ttotal: 9.34s\tremaining: 7.05s\n",
      "57:\tlearn: 0.0034650\ttotal: 9.49s\tremaining: 6.88s\n",
      "58:\tlearn: 0.0032780\ttotal: 9.66s\tremaining: 6.71s\n",
      "59:\tlearn: 0.0031195\ttotal: 9.82s\tremaining: 6.54s\n",
      "60:\tlearn: 0.0029944\ttotal: 9.98s\tremaining: 6.38s\n",
      "61:\tlearn: 0.0028894\ttotal: 10.1s\tremaining: 6.21s\n",
      "62:\tlearn: 0.0027577\ttotal: 10.3s\tremaining: 6.03s\n",
      "63:\tlearn: 0.0026461\ttotal: 10.4s\tremaining: 5.86s\n",
      "64:\tlearn: 0.0025638\ttotal: 10.5s\tremaining: 5.67s\n",
      "65:\tlearn: 0.0024574\ttotal: 10.7s\tremaining: 5.51s\n",
      "66:\tlearn: 0.0023931\ttotal: 10.9s\tremaining: 5.35s\n",
      "67:\tlearn: 0.0023371\ttotal: 11s\tremaining: 5.19s\n",
      "68:\tlearn: 0.0022906\ttotal: 11.2s\tremaining: 5.02s\n",
      "69:\tlearn: 0.0022600\ttotal: 11.3s\tremaining: 4.85s\n",
      "70:\tlearn: 0.0022199\ttotal: 11.5s\tremaining: 4.68s\n",
      "71:\tlearn: 0.0021783\ttotal: 11.6s\tremaining: 4.51s\n",
      "72:\tlearn: 0.0021618\ttotal: 11.8s\tremaining: 4.35s\n",
      "73:\tlearn: 0.0021152\ttotal: 11.9s\tremaining: 4.19s\n",
      "74:\tlearn: 0.0020713\ttotal: 12.1s\tremaining: 4.03s\n",
      "75:\tlearn: 0.0020503\ttotal: 12.2s\tremaining: 3.87s\n",
      "76:\tlearn: 0.0020141\ttotal: 12.4s\tremaining: 3.71s\n",
      "77:\tlearn: 0.0019565\ttotal: 12.6s\tremaining: 3.55s\n",
      "78:\tlearn: 0.0019525\ttotal: 12.7s\tremaining: 3.38s\n",
      "79:\tlearn: 0.0019246\ttotal: 12.9s\tremaining: 3.22s\n",
      "80:\tlearn: 0.0019217\ttotal: 13s\tremaining: 3.05s\n",
      "81:\tlearn: 0.0019100\ttotal: 13.2s\tremaining: 2.89s\n",
      "82:\tlearn: 0.0019010\ttotal: 13.3s\tremaining: 2.73s\n",
      "83:\tlearn: 0.0018875\ttotal: 13.5s\tremaining: 2.57s\n",
      "84:\tlearn: 0.0018801\ttotal: 13.6s\tremaining: 2.4s\n",
      "85:\tlearn: 0.0018716\ttotal: 13.8s\tremaining: 2.24s\n",
      "86:\tlearn: 0.0018647\ttotal: 13.9s\tremaining: 2.08s\n",
      "87:\tlearn: 0.0018175\ttotal: 14.1s\tremaining: 1.92s\n",
      "88:\tlearn: 0.0018060\ttotal: 14.2s\tremaining: 1.76s\n",
      "89:\tlearn: 0.0017771\ttotal: 14.4s\tremaining: 1.6s\n",
      "90:\tlearn: 0.0017739\ttotal: 14.5s\tremaining: 1.44s\n",
      "91:\tlearn: 0.0017462\ttotal: 14.7s\tremaining: 1.28s\n",
      "92:\tlearn: 0.0017442\ttotal: 14.8s\tremaining: 1.11s\n",
      "93:\tlearn: 0.0017371\ttotal: 15s\tremaining: 957ms\n",
      "94:\tlearn: 0.0017368\ttotal: 15.1s\tremaining: 796ms\n",
      "95:\tlearn: 0.0017300\ttotal: 15.3s\tremaining: 636ms\n",
      "96:\tlearn: 0.0016953\ttotal: 15.8s\tremaining: 489ms\n",
      "97:\tlearn: 0.0016951\ttotal: 16.4s\tremaining: 334ms\n",
      "98:\tlearn: 0.0016898\ttotal: 16.8s\tremaining: 170ms\n",
      "99:\tlearn: 0.0016856\ttotal: 17.1s\tremaining: 0us\n"
     ]
    }
   ],
   "source": [
    "Catboost_class=catboost_clf.fit(X_train, Y_train)"
   ]
  },
  {
   "cell_type": "code",
   "execution_count": 74,
   "id": "V8atD437O5d7",
   "metadata": {
    "id": "V8atD437O5d7"
   },
   "outputs": [],
   "source": [
    "catboost_predict=Catboost_class.predict(X_test)"
   ]
  },
  {
   "cell_type": "code",
   "execution_count": 75,
   "id": "UZyqbjOsO5ah",
   "metadata": {
    "colab": {
     "base_uri": "https://localhost:8080/"
    },
    "id": "UZyqbjOsO5ah",
    "outputId": "8ccc94f1-3548-4185-8eab-ab8a791336f8"
   },
   "outputs": [
    {
     "name": "stdout",
     "output_type": "stream",
     "text": [
      "CatBoost Accuracy: 1.00\n"
     ]
    }
   ],
   "source": [
    "accuracy_catboost = accuracy_score(Y_test, catboost_predict)\n",
    "print(f\"CatBoost Accuracy: {accuracy_catboost:.2f}\")"
   ]
  },
  {
   "cell_type": "code",
   "execution_count": 76,
   "id": "2d072223",
   "metadata": {},
   "outputs": [
    {
     "ename": "NameError",
     "evalue": "name 'pickle' is not defined",
     "output_type": "error",
     "traceback": [
      "\u001b[1;31m---------------------------------------------------------------------------\u001b[0m",
      "\u001b[1;31mNameError\u001b[0m                                 Traceback (most recent call last)",
      "Cell \u001b[1;32mIn[76], line 2\u001b[0m\n\u001b[0;32m      1\u001b[0m \u001b[38;5;28;01mwith\u001b[39;00m \u001b[38;5;28mopen\u001b[39m(\u001b[38;5;124m\"\u001b[39m\u001b[38;5;124mcat_boost_model.pkl\u001b[39m\u001b[38;5;124m\"\u001b[39m, \u001b[38;5;124m\"\u001b[39m\u001b[38;5;124mwb\u001b[39m\u001b[38;5;124m\"\u001b[39m) \u001b[38;5;28;01mas\u001b[39;00m model_file:\n\u001b[1;32m----> 2\u001b[0m     pickle\u001b[38;5;241m.\u001b[39mdump(Catboost_class, model_file)\n",
      "\u001b[1;31mNameError\u001b[0m: name 'pickle' is not defined"
     ]
    }
   ],
   "source": [
    "with open(\"cat_boost_model.pkl\", \"wb\") as model_file:\n",
    "    pickle.dump(Catboost_class, model_file)"
   ]
  },
  {
   "cell_type": "markdown",
   "id": "dFjs2KV_P5sq",
   "metadata": {
    "id": "dFjs2KV_P5sq"
   },
   "source": [
    "<h2>AdaBoost with a Decision Tree Classifier as the base estimator</h2>\n"
   ]
  },
  {
   "cell_type": "code",
   "execution_count": 76,
   "id": "UlcMzB8pO5Xb",
   "metadata": {
    "id": "UlcMzB8pO5Xb"
   },
   "outputs": [],
   "source": [
    "from sklearn.ensemble import AdaBoostClassifier\n",
    "from sklearn.tree import DecisionTreeClassifier\n",
    "import pickle"
   ]
  },
  {
   "cell_type": "code",
   "execution_count": 77,
   "id": "YhiZmL1vO5TE",
   "metadata": {
    "id": "YhiZmL1vO5TE"
   },
   "outputs": [],
   "source": [
    "adaboost_clf = AdaBoostClassifier(\n",
    "    estimator=DecisionTreeClassifier(max_depth=1),  # Use 'estimator' instead of 'base_estimator'\n",
    "    n_estimators=50,\n",
    "    learning_rate=1.0,\n",
    "    random_state=42)"
   ]
  },
  {
   "cell_type": "code",
   "execution_count": 78,
   "id": "fYH_E2nEO5KU",
   "metadata": {
    "colab": {
     "base_uri": "https://localhost:8080/",
     "height": 189
    },
    "id": "fYH_E2nEO5KU",
    "outputId": "f7b7e0f5-8b93-4e5b-83e5-0a58fef80e5f"
   },
   "outputs": [
    {
     "data": {
      "text/html": [
       "<style>#sk-container-id-1 {color: black;background-color: white;}#sk-container-id-1 pre{padding: 0;}#sk-container-id-1 div.sk-toggleable {background-color: white;}#sk-container-id-1 label.sk-toggleable__label {cursor: pointer;display: block;width: 100%;margin-bottom: 0;padding: 0.3em;box-sizing: border-box;text-align: center;}#sk-container-id-1 label.sk-toggleable__label-arrow:before {content: \"▸\";float: left;margin-right: 0.25em;color: #696969;}#sk-container-id-1 label.sk-toggleable__label-arrow:hover:before {color: black;}#sk-container-id-1 div.sk-estimator:hover label.sk-toggleable__label-arrow:before {color: black;}#sk-container-id-1 div.sk-toggleable__content {max-height: 0;max-width: 0;overflow: hidden;text-align: left;background-color: #f0f8ff;}#sk-container-id-1 div.sk-toggleable__content pre {margin: 0.2em;color: black;border-radius: 0.25em;background-color: #f0f8ff;}#sk-container-id-1 input.sk-toggleable__control:checked~div.sk-toggleable__content {max-height: 200px;max-width: 100%;overflow: auto;}#sk-container-id-1 input.sk-toggleable__control:checked~label.sk-toggleable__label-arrow:before {content: \"▾\";}#sk-container-id-1 div.sk-estimator input.sk-toggleable__control:checked~label.sk-toggleable__label {background-color: #d4ebff;}#sk-container-id-1 div.sk-label input.sk-toggleable__control:checked~label.sk-toggleable__label {background-color: #d4ebff;}#sk-container-id-1 input.sk-hidden--visually {border: 0;clip: rect(1px 1px 1px 1px);clip: rect(1px, 1px, 1px, 1px);height: 1px;margin: -1px;overflow: hidden;padding: 0;position: absolute;width: 1px;}#sk-container-id-1 div.sk-estimator {font-family: monospace;background-color: #f0f8ff;border: 1px dotted black;border-radius: 0.25em;box-sizing: border-box;margin-bottom: 0.5em;}#sk-container-id-1 div.sk-estimator:hover {background-color: #d4ebff;}#sk-container-id-1 div.sk-parallel-item::after {content: \"\";width: 100%;border-bottom: 1px solid gray;flex-grow: 1;}#sk-container-id-1 div.sk-label:hover label.sk-toggleable__label {background-color: #d4ebff;}#sk-container-id-1 div.sk-serial::before {content: \"\";position: absolute;border-left: 1px solid gray;box-sizing: border-box;top: 0;bottom: 0;left: 50%;z-index: 0;}#sk-container-id-1 div.sk-serial {display: flex;flex-direction: column;align-items: center;background-color: white;padding-right: 0.2em;padding-left: 0.2em;position: relative;}#sk-container-id-1 div.sk-item {position: relative;z-index: 1;}#sk-container-id-1 div.sk-parallel {display: flex;align-items: stretch;justify-content: center;background-color: white;position: relative;}#sk-container-id-1 div.sk-item::before, #sk-container-id-1 div.sk-parallel-item::before {content: \"\";position: absolute;border-left: 1px solid gray;box-sizing: border-box;top: 0;bottom: 0;left: 50%;z-index: -1;}#sk-container-id-1 div.sk-parallel-item {display: flex;flex-direction: column;z-index: 1;position: relative;background-color: white;}#sk-container-id-1 div.sk-parallel-item:first-child::after {align-self: flex-end;width: 50%;}#sk-container-id-1 div.sk-parallel-item:last-child::after {align-self: flex-start;width: 50%;}#sk-container-id-1 div.sk-parallel-item:only-child::after {width: 0;}#sk-container-id-1 div.sk-dashed-wrapped {border: 1px dashed gray;margin: 0 0.4em 0.5em 0.4em;box-sizing: border-box;padding-bottom: 0.4em;background-color: white;}#sk-container-id-1 div.sk-label label {font-family: monospace;font-weight: bold;display: inline-block;line-height: 1.2em;}#sk-container-id-1 div.sk-label-container {text-align: center;}#sk-container-id-1 div.sk-container {/* jupyter's `normalize.less` sets `[hidden] { display: none; }` but bootstrap.min.css set `[hidden] { display: none !important; }` so we also need the `!important` here to be able to override the default hidden behavior on the sphinx rendered scikit-learn.org. See: https://github.com/scikit-learn/scikit-learn/issues/21755 */display: inline-block !important;position: relative;}#sk-container-id-1 div.sk-text-repr-fallback {display: none;}</style><div id=\"sk-container-id-1\" class=\"sk-top-container\"><div class=\"sk-text-repr-fallback\"><pre>AdaBoostClassifier(estimator=DecisionTreeClassifier(max_depth=1),\n",
       "                   random_state=42)</pre><b>In a Jupyter environment, please rerun this cell to show the HTML representation or trust the notebook. <br />On GitHub, the HTML representation is unable to render, please try loading this page with nbviewer.org.</b></div><div class=\"sk-container\" hidden><div class=\"sk-item sk-dashed-wrapped\"><div class=\"sk-label-container\"><div class=\"sk-label sk-toggleable\"><input class=\"sk-toggleable__control sk-hidden--visually\" id=\"sk-estimator-id-1\" type=\"checkbox\" ><label for=\"sk-estimator-id-1\" class=\"sk-toggleable__label sk-toggleable__label-arrow\">AdaBoostClassifier</label><div class=\"sk-toggleable__content\"><pre>AdaBoostClassifier(estimator=DecisionTreeClassifier(max_depth=1),\n",
       "                   random_state=42)</pre></div></div></div><div class=\"sk-parallel\"><div class=\"sk-parallel-item\"><div class=\"sk-item\"><div class=\"sk-label-container\"><div class=\"sk-label sk-toggleable\"><input class=\"sk-toggleable__control sk-hidden--visually\" id=\"sk-estimator-id-2\" type=\"checkbox\" ><label for=\"sk-estimator-id-2\" class=\"sk-toggleable__label sk-toggleable__label-arrow\">estimator: DecisionTreeClassifier</label><div class=\"sk-toggleable__content\"><pre>DecisionTreeClassifier(max_depth=1)</pre></div></div></div><div class=\"sk-serial\"><div class=\"sk-item\"><div class=\"sk-estimator sk-toggleable\"><input class=\"sk-toggleable__control sk-hidden--visually\" id=\"sk-estimator-id-3\" type=\"checkbox\" ><label for=\"sk-estimator-id-3\" class=\"sk-toggleable__label sk-toggleable__label-arrow\">DecisionTreeClassifier</label><div class=\"sk-toggleable__content\"><pre>DecisionTreeClassifier(max_depth=1)</pre></div></div></div></div></div></div></div></div></div></div>"
      ],
      "text/plain": [
       "AdaBoostClassifier(estimator=DecisionTreeClassifier(max_depth=1),\n",
       "                   random_state=42)"
      ]
     },
     "execution_count": 78,
     "metadata": {},
     "output_type": "execute_result"
    }
   ],
   "source": [
    "adaboost_clf.fit(X_train, Y_train)"
   ]
  },
  {
   "cell_type": "code",
   "execution_count": 79,
   "id": "UX6la5PfRzCy",
   "metadata": {
    "id": "UX6la5PfRzCy"
   },
   "outputs": [],
   "source": [
    "adaboost_predict=adaboost_clf.predict(X_test)"
   ]
  },
  {
   "cell_type": "code",
   "execution_count": 80,
   "id": "-bNtbLTqRzAW",
   "metadata": {
    "colab": {
     "base_uri": "https://localhost:8080/"
    },
    "id": "-bNtbLTqRzAW",
    "outputId": "926b88ba-2c69-484f-81d2-0b27baced464",
    "scrolled": true
   },
   "outputs": [
    {
     "name": "stdout",
     "output_type": "stream",
     "text": [
      "AdaBoost Accuracy: 0.82\n"
     ]
    }
   ],
   "source": [
    "accuracy_adaboost = accuracy_score(Y_test, adaboost_predict)\n",
    "print(f\"AdaBoost Accuracy: {accuracy_adaboost:.2f}\")"
   ]
  },
  {
   "cell_type": "code",
   "execution_count": 85,
   "id": "8a351cd3",
   "metadata": {},
   "outputs": [
    {
     "name": "stdout",
     "output_type": "stream",
     "text": [
      "Requirement already satisfied: scikit-learn in c:\\users\\gulma\\anaconda3\\lib\\site-packages (1.2.2)\n",
      "Collecting scikit-learn\n",
      "  Downloading scikit_learn-1.5.2-cp311-cp311-win_amd64.whl.metadata (13 kB)\n",
      "Requirement already satisfied: numpy>=1.19.5 in c:\\users\\gulma\\anaconda3\\lib\\site-packages (from scikit-learn) (1.26.4)\n",
      "Requirement already satisfied: scipy>=1.6.0 in c:\\users\\gulma\\anaconda3\\lib\\site-packages (from scikit-learn) (1.11.4)\n",
      "Requirement already satisfied: joblib>=1.2.0 in c:\\users\\gulma\\anaconda3\\lib\\site-packages (from scikit-learn) (1.2.0)\n",
      "Collecting threadpoolctl>=3.1.0 (from scikit-learn)\n",
      "  Downloading threadpoolctl-3.5.0-py3-none-any.whl.metadata (13 kB)\n",
      "Downloading scikit_learn-1.5.2-cp311-cp311-win_amd64.whl (11.0 MB)\n",
      "   ---------------------------------------- 0.0/11.0 MB ? eta -:--:--\n",
      "   ---------------------------------------- 0.0/11.0 MB ? eta -:--:--\n",
      "   ---------------------------------------- 0.0/11.0 MB 435.7 kB/s eta 0:00:26\n",
      "   ---------------------------------------- 0.1/11.0 MB 563.7 kB/s eta 0:00:20\n",
      "    --------------------------------------- 0.1/11.0 MB 853.3 kB/s eta 0:00:13\n",
      "    --------------------------------------- 0.3/11.0 MB 1.2 MB/s eta 0:00:10\n",
      "   - -------------------------------------- 0.4/11.0 MB 1.6 MB/s eta 0:00:07\n",
      "   -- ------------------------------------- 0.6/11.0 MB 2.0 MB/s eta 0:00:06\n",
      "   --- ------------------------------------ 1.0/11.0 MB 2.9 MB/s eta 0:00:04\n",
      "   ----- ---------------------------------- 1.6/11.0 MB 3.8 MB/s eta 0:00:03\n",
      "   -------- ------------------------------- 2.4/11.0 MB 5.2 MB/s eta 0:00:02\n",
      "   ----------- ---------------------------- 3.2/11.0 MB 6.4 MB/s eta 0:00:02\n",
      "   ---------------- ----------------------- 4.5/11.0 MB 8.2 MB/s eta 0:00:01\n",
      "   --------------------- ------------------ 5.9/11.0 MB 9.8 MB/s eta 0:00:01\n",
      "   ------------------------- -------------- 7.0/11.0 MB 10.9 MB/s eta 0:00:01\n",
      "   ----------------------------- ---------- 8.1/11.0 MB 11.7 MB/s eta 0:00:01\n",
      "   ---------------------------------- ----- 9.4/11.0 MB 12.8 MB/s eta 0:00:01\n",
      "   ------------------------------------- -- 10.4/11.0 MB 16.8 MB/s eta 0:00:01\n",
      "   ---------------------------------------  11.0/11.0 MB 21.1 MB/s eta 0:00:01\n",
      "   ---------------------------------------- 11.0/11.0 MB 19.9 MB/s eta 0:00:00\n",
      "Downloading threadpoolctl-3.5.0-py3-none-any.whl (18 kB)\n",
      "Installing collected packages: threadpoolctl, scikit-learn\n",
      "  Attempting uninstall: threadpoolctl\n",
      "    Found existing installation: threadpoolctl 2.2.0\n",
      "    Uninstalling threadpoolctl-2.2.0:\n",
      "      Successfully uninstalled threadpoolctl-2.2.0\n",
      "  Attempting uninstall: scikit-learn\n",
      "    Found existing installation: scikit-learn 1.2.2\n",
      "    Uninstalling scikit-learn-1.2.2:\n",
      "      Successfully uninstalled scikit-learn-1.2.2\n",
      "Successfully installed scikit-learn-1.5.2 threadpoolctl-3.5.0\n"
     ]
    },
    {
     "name": "stderr",
     "output_type": "stream",
     "text": [
      "  WARNING: Failed to remove contents in a temporary directory 'C:\\Users\\gulma\\anaconda3\\Lib\\site-packages\\~klearn'.\n",
      "  You can safely remove it manually.\n"
     ]
    }
   ],
   "source": [
    "!pip install --upgrade scikit-learn"
   ]
  },
  {
   "cell_type": "code",
   "execution_count": 86,
   "id": "6167792f",
   "metadata": {},
   "outputs": [],
   "source": [
    "with open(\"ada_boost_model.pkl\", \"wb\") as model_file:\n",
    "    pickle.dump(adaboost_clf, model_file)"
   ]
  },
  {
   "cell_type": "markdown",
   "id": "DLd-K3uBSc2X",
   "metadata": {
    "id": "DLd-K3uBSc2X"
   },
   "source": [
    "<h2>Confusion Matrix</h2>\n"
   ]
  },
  {
   "cell_type": "code",
   "execution_count": 94,
   "id": "Q0T63AgpRy9O",
   "metadata": {
    "id": "Q0T63AgpRy9O"
   },
   "outputs": [],
   "source": [
    "from sklearn.metrics import confusion_matrix, ConfusionMatrixDisplay\n",
    "import matplotlib.pyplot as plt"
   ]
  },
  {
   "cell_type": "code",
   "execution_count": 95,
   "id": "B9ekrrToRy6g",
   "metadata": {
    "id": "B9ekrrToRy6g"
   },
   "outputs": [],
   "source": [
    "CM=confusion_matrix(Y_test, predict_y)"
   ]
  },
  {
   "cell_type": "code",
   "execution_count": 96,
   "id": "mToP5vs2Ry3t",
   "metadata": {
    "colab": {
     "base_uri": "https://localhost:8080/",
     "height": 472
    },
    "id": "mToP5vs2Ry3t",
    "outputId": "69c96fbb-3aad-4175-d9dd-97b9aa2220e8"
   },
   "outputs": [
    {
     "data": {
      "image/png": "[encoded data removed]",
      "text/plain": [
       "<Figure size 640x480 with 2 Axes>"
      ]
     },
     "metadata": {},
     "output_type": "display_data"
    }
   ],
   "source": [
    "disp = ConfusionMatrixDisplay(confusion_matrix=CM, display_labels=model.classes_)\n",
    "disp.plot(cmap=\"YlGnBu\")\n",
    "plt.title(\"AdaBoost Confusion Matrix\")\n",
    "plt.show()"
   ]
  },
  {
   "cell_type": "markdown",
   "id": "pcVvibdhUgTJ",
   "metadata": {
    "id": "pcVvibdhUgTJ"
   },
   "source": [
    "<h2>SHAP</h2>"
   ]
  },
  {
   "cell_type": "code",
   "execution_count": 97,
   "id": "7zbXF9iMRy1Z",
   "metadata": {
    "colab": {
     "base_uri": "https://localhost:8080/"
    },
    "id": "7zbXF9iMRy1Z",
    "outputId": "47d33e2e-9927-4c36-b902-17777d6ebf5e"
   },
   "outputs": [
    {
     "name": "stdout",
     "output_type": "stream",
     "text": [
      "Requirement already satisfied: shap in c:\\users\\gulma\\anaconda3\\lib\\site-packages (0.46.0)\n",
      "Requirement already satisfied: numpy in c:\\users\\gulma\\anaconda3\\lib\\site-packages (from shap) (1.26.4)\n",
      "Requirement already satisfied: scipy in c:\\users\\gulma\\anaconda3\\lib\\site-packages (from shap) (1.11.4)\n",
      "Requirement already satisfied: scikit-learn in c:\\users\\gulma\\anaconda3\\lib\\site-packages (from shap) (1.2.2)\n",
      "Requirement already satisfied: pandas in c:\\users\\gulma\\anaconda3\\lib\\site-packages (from shap) (2.1.4)\n",
      "Requirement already satisfied: tqdm>=4.27.0 in c:\\users\\gulma\\anaconda3\\lib\\site-packages (from shap) (4.65.0)\n",
      "Requirement already satisfied: packaging>20.9 in c:\\users\\gulma\\anaconda3\\lib\\site-packages (from shap) (23.1)\n",
      "Requirement already satisfied: slicer==0.0.8 in c:\\users\\gulma\\anaconda3\\lib\\site-packages (from shap) (0.0.8)\n",
      "Requirement already satisfied: numba in c:\\users\\gulma\\anaconda3\\lib\\site-packages (from shap) (0.59.0)\n",
      "Requirement already satisfied: cloudpickle in c:\\users\\gulma\\anaconda3\\lib\\site-packages (from shap) (2.2.1)\n",
      "Requirement already satisfied: colorama in c:\\users\\gulma\\anaconda3\\lib\\site-packages (from tqdm>=4.27.0->shap) (0.4.6)\n",
      "Requirement already satisfied: llvmlite<0.43,>=0.42.0dev0 in c:\\users\\gulma\\anaconda3\\lib\\site-packages (from numba->shap) (0.42.0)\n",
      "Requirement already satisfied: python-dateutil>=2.8.2 in c:\\users\\gulma\\anaconda3\\lib\\site-packages (from pandas->shap) (2.8.2)\n",
      "Requirement already satisfied: pytz>=2020.1 in c:\\users\\gulma\\anaconda3\\lib\\site-packages (from pandas->shap) (2023.3.post1)\n",
      "Requirement already satisfied: tzdata>=2022.1 in c:\\users\\gulma\\anaconda3\\lib\\site-packages (from pandas->shap) (2023.3)\n",
      "Requirement already satisfied: joblib>=1.1.1 in c:\\users\\gulma\\anaconda3\\lib\\site-packages (from scikit-learn->shap) (1.2.0)\n",
      "Requirement already satisfied: threadpoolctl>=2.0.0 in c:\\users\\gulma\\anaconda3\\lib\\site-packages (from scikit-learn->shap) (2.2.0)\n",
      "Requirement already satisfied: six>=1.5 in c:\\users\\gulma\\anaconda3\\lib\\site-packages (from python-dateutil>=2.8.2->pandas->shap) (1.16.0)\n"
     ]
    }
   ],
   "source": [
    "!pip install shap\n"
   ]
  },
  {
   "cell_type": "code",
   "execution_count": 1,
   "id": "gNaU3VmaRyzC",
   "metadata": {
    "id": "gNaU3VmaRyzC"
   },
   "outputs": [],
   "source": [
    "import shap"
   ]
  },
  {
   "cell_type": "code",
   "execution_count": 2,
   "id": "Fdkq7ILgVJRP",
   "metadata": {
    "id": "Fdkq7ILgVJRP"
   },
   "outputs": [
    {
     "ename": "NameError",
     "evalue": "name 'Catboost_class' is not defined",
     "output_type": "error",
     "traceback": [
      "\u001b[1;31m---------------------------------------------------------------------------\u001b[0m",
      "\u001b[1;31mNameError\u001b[0m                                 Traceback (most recent call last)",
      "Cell \u001b[1;32mIn[2], line 1\u001b[0m\n\u001b[1;32m----> 1\u001b[0m explainer \u001b[38;5;241m=\u001b[39m shap\u001b[38;5;241m.\u001b[39mExplainer(Catboost_class, X_train)\n\u001b[0;32m      3\u001b[0m user_password \u001b[38;5;241m=\u001b[39m \u001b[38;5;28minput\u001b[39m(\u001b[38;5;124m\"\u001b[39m\u001b[38;5;124mPlease enter your password: \u001b[39m\u001b[38;5;124m\"\u001b[39m)\n\u001b[0;32m      4\u001b[0m user_data \u001b[38;5;241m=\u001b[39m {\n\u001b[0;32m      5\u001b[0m     \u001b[38;5;124m\"\u001b[39m\u001b[38;5;124mlength\u001b[39m\u001b[38;5;124m\"\u001b[39m: \u001b[38;5;28mlen\u001b[39m(user_password),\n\u001b[0;32m      6\u001b[0m     \u001b[38;5;124m\"\u001b[39m\u001b[38;5;124mlowercase_freq\u001b[39m\u001b[38;5;124m\"\u001b[39m: lowercase(user_password),\n\u001b[1;32m   (...)\u001b[0m\n\u001b[0;32m      9\u001b[0m     \u001b[38;5;124m\"\u001b[39m\u001b[38;5;124mspecial_char_freq\u001b[39m\u001b[38;5;124m\"\u001b[39m: special_char(user_password)\n\u001b[0;32m     10\u001b[0m }\n",
      "\u001b[1;31mNameError\u001b[0m: name 'Catboost_class' is not defined"
     ]
    }
   ],
   "source": [
    "explainer = shap.Explainer(Catboost_class, X_train)\n",
    "\n",
    "user_password = input(\"Please enter your password: \")\n",
    "user_data = {\n",
    "    \"length\": len(user_password),\n",
    "    \"lowercase_freq\": lowercase(user_password),\n",
    "    \"uppercase_freq\": uppercase(user_password),\n",
    "    \"digit_freq\": digit(user_password),\n",
    "    \"special_char_freq\": special_char(user_password)\n",
    "}\n",
    "\n",
    "single_data_point = pd.DataFrame([user_data])\n",
    "\n",
    "shap_values = explainer(single_data_point)\n",
    "\n",
    "shap.waterfall_plot(shap_values[0])"
   ]
  },
  {
   "cell_type": "markdown",
   "id": "5NT4FiG2ZMRt",
   "metadata": {
    "id": "5NT4FiG2ZMRt"
   },
   "source": []
  },
  {
   "cell_type": "markdown",
   "id": "J9dKOMMtVGgb",
   "metadata": {
    "id": "J9dKOMMtVGgb"
   },
   "source": [
    "Gradient Boosting Machines (GBM)\n"
   ]
  },
  {
   "cell_type": "code",
   "execution_count": 104,
   "id": "jikZTTgMRytq",
   "metadata": {
    "id": "jikZTTgMRytq"
   },
   "outputs": [],
   "source": [
    "from sklearn.ensemble import GradientBoostingClassifier"
   ]
  },
  {
   "cell_type": "code",
   "execution_count": 105,
   "id": "Sds2rl92Ryp2",
   "metadata": {
    "id": "Sds2rl92Ryp2"
   },
   "outputs": [],
   "source": [
    "gbm_model=GradientBoostingClassifier(n_estimators=100, learning_rate=0.1, max_depth=3, random_state=42)"
   ]
  },
  {
   "cell_type": "code",
   "execution_count": 107,
   "id": "lRcHoy8uRynF",
   "metadata": {
    "id": "lRcHoy8uRynF"
   },
   "outputs": [],
   "source": [
    "gradient_boost_class=gbm_model.fit(X_train, Y_train)"
   ]
  },
  {
   "cell_type": "code",
   "execution_count": 116,
   "id": "fqnifubvRyhW",
   "metadata": {
    "id": "fqnifubvRyhW"
   },
   "outputs": [],
   "source": [
    "gbm_predict = gradient_boost_class.predict(X_test)"
   ]
  },
  {
   "cell_type": "code",
   "execution_count": 117,
   "id": "lt9omoMtNa4m",
   "metadata": {
    "id": "lt9omoMtNa4m"
   },
   "outputs": [
    {
     "name": "stdout",
     "output_type": "stream",
     "text": [
      "GBM Accuracy: 1.00\n"
     ]
    }
   ],
   "source": [
    "accuracy = accuracy_score(Y_test, gbm_predict)\n",
    "print(f'GBM Accuracy: {accuracy:.2f}')"
   ]
  },
  {
   "cell_type": "markdown",
   "id": "zAoAC8eYHI86",
   "metadata": {
    "id": "zAoAC8eYHI86"
   },
   "source": [
    "Support Vector Machine (SVM)"
   ]
  },
  {
   "cell_type": "code",
   "execution_count": 118,
   "id": "N0YDxKi_Na1t",
   "metadata": {
    "id": "N0YDxKi_Na1t"
   },
   "outputs": [],
   "source": [
    "from sklearn.svm import SVC"
   ]
  },
  {
   "cell_type": "code",
   "execution_count": 119,
   "id": "nTq5fgMGNayv",
   "metadata": {
    "id": "nTq5fgMGNayv"
   },
   "outputs": [],
   "source": [
    "model=SVC(kernel='linear', C=1.0)"
   ]
  },
  {
   "cell_type": "code",
   "execution_count": null,
   "id": "e3423478",
   "metadata": {},
   "outputs": [],
   "source": [
    "svc=model.fit(X_train, Y_train)"
   ]
  },
  {
   "cell_type": "code",
   "execution_count": null,
   "id": "RuMr8A95NatH",
   "metadata": {
    "id": "RuMr8A95NatH"
   },
   "outputs": [],
   "source": [
    "svc_pred=svc.predict(final_Xtest)"
   ]
  },
  {
   "cell_type": "code",
   "execution_count": null,
   "id": "B_U3JTcnNaqW",
   "metadata": {
    "id": "B_U3JTcnNaqW"
   },
   "outputs": [],
   "source": [
    "accuracy = accuracy_score(Y_test, svc_pred)\n",
    "print(f'SVC Accuracy: {accuracy:.2f}')\n"
   ]
  },
  {
   "cell_type": "code",
   "execution_count": null,
   "id": "Fpup2ijJYq6S",
   "metadata": {
    "id": "Fpup2ijJYq6S"
   },
   "outputs": [],
   "source": [
    "#with open(\"vectorizer.pkl\", \"wb\") as vec_file:\n",
    " # pickle.dump(vectorizer, vec_file)"
   ]
  },
  {
   "cell_type": "code",
   "execution_count": null,
   "id": "VpKlBTXyNanl",
   "metadata": {
    "id": "VpKlBTXyNanl"
   },
   "outputs": [],
   "source": [
    "#with open(\"model.pkl\", \"rb\") as model_file:\n",
    "   #loaded_model = pickle.load(model_file)"
   ]
  },
  {
   "cell_type": "code",
   "execution_count": null,
   "id": "nmJUuBgENaku",
   "metadata": {
    "id": "nmJUuBgENaku"
   },
   "outputs": [],
   "source": [
    "#y_pred_loaded = loaded_model.predict(final_Xtest)"
   ]
  },
  {
   "cell_type": "code",
   "execution_count": null,
   "id": "ayrM3Jg6pc2D",
   "metadata": {
    "id": "ayrM3Jg6pc2D"
   },
   "outputs": [],
   "source": []
  }
 ],
 "metadata": {
  "colab": {
   "provenance": []
  },
  "kernelspec": {
   "display_name": "Python 3 (ipykernel)",
   "language": "python",
   "name": "python3"
  },
  "language_info": {
   "codemirror_mode": {
    "name": "ipython",
    "version": 3
   },
   "file_extension": ".py",
   "mimetype": "text/x-python",
   "name": "python",
   "nbconvert_exporter": "python",
   "pygments_lexer": "ipython3",
   "version": "3.11.7"
  }
 },
 "nbformat": 4,
 "nbformat_minor": 5
}
